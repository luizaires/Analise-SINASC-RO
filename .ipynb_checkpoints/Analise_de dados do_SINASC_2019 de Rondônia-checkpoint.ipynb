{
 "cells": [
  {
   "cell_type": "markdown",
   "id": "e81971ce",
   "metadata": {},
   "source": [
    "# Análise de dados do SINASC 2019 de Rondônia"
   ]
  },
  {
   "cell_type": "markdown",
   "id": "d7e7f244",
   "metadata": {},
   "source": [
    "## 1 Preparação dos dados"
   ]
  },
  {
   "cell_type": "markdown",
   "id": "bc61797d",
   "metadata": {},
   "source": [
    "### 1.1 Carregando a base de dados e importando *packages*"
   ]
  },
  {
   "cell_type": "code",
   "execution_count": 1,
   "id": "c4a34a5c",
   "metadata": {},
   "outputs": [
    {
     "data": {
      "text/html": [
       "<div>\n",
       "<style scoped>\n",
       "    .dataframe tbody tr th:only-of-type {\n",
       "        vertical-align: middle;\n",
       "    }\n",
       "\n",
       "    .dataframe tbody tr th {\n",
       "        vertical-align: top;\n",
       "    }\n",
       "\n",
       "    .dataframe thead th {\n",
       "        text-align: right;\n",
       "    }\n",
       "</style>\n",
       "<table border=\"1\" class=\"dataframe\">\n",
       "  <thead>\n",
       "    <tr style=\"text-align: right;\">\n",
       "      <th></th>\n",
       "      <th>ORIGEM</th>\n",
       "      <th>CODESTAB</th>\n",
       "      <th>CODMUNNASC</th>\n",
       "      <th>LOCNASC</th>\n",
       "      <th>IDADEMAE</th>\n",
       "      <th>ESTCIVMAE</th>\n",
       "      <th>ESCMAE</th>\n",
       "      <th>CODOCUPMAE</th>\n",
       "      <th>QTDFILVIVO</th>\n",
       "      <th>QTDFILMORT</th>\n",
       "      <th>...</th>\n",
       "      <th>KOTELCHUCK</th>\n",
       "      <th>CONTADOR</th>\n",
       "      <th>munResStatus</th>\n",
       "      <th>munResTipo</th>\n",
       "      <th>munResNome</th>\n",
       "      <th>munResUf</th>\n",
       "      <th>munResLat</th>\n",
       "      <th>munResLon</th>\n",
       "      <th>munResAlt</th>\n",
       "      <th>munResArea</th>\n",
       "    </tr>\n",
       "  </thead>\n",
       "  <tbody>\n",
       "    <tr>\n",
       "      <th>0</th>\n",
       "      <td>1</td>\n",
       "      <td>2679477.0</td>\n",
       "      <td>110001</td>\n",
       "      <td>1</td>\n",
       "      <td>19</td>\n",
       "      <td>5.0</td>\n",
       "      <td>8 a 11 anos</td>\n",
       "      <td>NaN</td>\n",
       "      <td>0.0</td>\n",
       "      <td>0.0</td>\n",
       "      <td>...</td>\n",
       "      <td>5</td>\n",
       "      <td>1</td>\n",
       "      <td>ATIVO</td>\n",
       "      <td>MUNIC</td>\n",
       "      <td>Alta Floresta D'Oeste</td>\n",
       "      <td>Rondônia</td>\n",
       "      <td>-11.93554</td>\n",
       "      <td>-61.99982</td>\n",
       "      <td>338.0</td>\n",
       "      <td>7067.025</td>\n",
       "    </tr>\n",
       "    <tr>\n",
       "      <th>1</th>\n",
       "      <td>1</td>\n",
       "      <td>2679477.0</td>\n",
       "      <td>110001</td>\n",
       "      <td>1</td>\n",
       "      <td>29</td>\n",
       "      <td>2.0</td>\n",
       "      <td>8 a 11 anos</td>\n",
       "      <td>999992.0</td>\n",
       "      <td>1.0</td>\n",
       "      <td>0.0</td>\n",
       "      <td>...</td>\n",
       "      <td>5</td>\n",
       "      <td>2</td>\n",
       "      <td>ATIVO</td>\n",
       "      <td>MUNIC</td>\n",
       "      <td>Alta Floresta D'Oeste</td>\n",
       "      <td>Rondônia</td>\n",
       "      <td>-11.93554</td>\n",
       "      <td>-61.99982</td>\n",
       "      <td>338.0</td>\n",
       "      <td>7067.025</td>\n",
       "    </tr>\n",
       "    <tr>\n",
       "      <th>2</th>\n",
       "      <td>1</td>\n",
       "      <td>2679477.0</td>\n",
       "      <td>110001</td>\n",
       "      <td>1</td>\n",
       "      <td>37</td>\n",
       "      <td>9.0</td>\n",
       "      <td>8 a 11 anos</td>\n",
       "      <td>513205.0</td>\n",
       "      <td>2.0</td>\n",
       "      <td>0.0</td>\n",
       "      <td>...</td>\n",
       "      <td>5</td>\n",
       "      <td>3</td>\n",
       "      <td>ATIVO</td>\n",
       "      <td>MUNIC</td>\n",
       "      <td>Alta Floresta D'Oeste</td>\n",
       "      <td>Rondônia</td>\n",
       "      <td>-11.93554</td>\n",
       "      <td>-61.99982</td>\n",
       "      <td>338.0</td>\n",
       "      <td>7067.025</td>\n",
       "    </tr>\n",
       "    <tr>\n",
       "      <th>3</th>\n",
       "      <td>1</td>\n",
       "      <td>2516500.0</td>\n",
       "      <td>110001</td>\n",
       "      <td>1</td>\n",
       "      <td>30</td>\n",
       "      <td>5.0</td>\n",
       "      <td>12 anos ou mais</td>\n",
       "      <td>231205.0</td>\n",
       "      <td>0.0</td>\n",
       "      <td>0.0</td>\n",
       "      <td>...</td>\n",
       "      <td>4</td>\n",
       "      <td>4</td>\n",
       "      <td>ATIVO</td>\n",
       "      <td>MUNIC</td>\n",
       "      <td>Alto Alegre dos Parecis</td>\n",
       "      <td>Rondônia</td>\n",
       "      <td>-12.13178</td>\n",
       "      <td>-61.85308</td>\n",
       "      <td>397.0</td>\n",
       "      <td>3958.273</td>\n",
       "    </tr>\n",
       "    <tr>\n",
       "      <th>4</th>\n",
       "      <td>1</td>\n",
       "      <td>2516500.0</td>\n",
       "      <td>110001</td>\n",
       "      <td>1</td>\n",
       "      <td>30</td>\n",
       "      <td>2.0</td>\n",
       "      <td>8 a 11 anos</td>\n",
       "      <td>999992.0</td>\n",
       "      <td>1.0</td>\n",
       "      <td>0.0</td>\n",
       "      <td>...</td>\n",
       "      <td>5</td>\n",
       "      <td>5</td>\n",
       "      <td>ATIVO</td>\n",
       "      <td>MUNIC</td>\n",
       "      <td>Alta Floresta D'Oeste</td>\n",
       "      <td>Rondônia</td>\n",
       "      <td>-11.93554</td>\n",
       "      <td>-61.99982</td>\n",
       "      <td>338.0</td>\n",
       "      <td>7067.025</td>\n",
       "    </tr>\n",
       "  </tbody>\n",
       "</table>\n",
       "<p>5 rows × 69 columns</p>\n",
       "</div>"
      ],
      "text/plain": [
       "   ORIGEM   CODESTAB  CODMUNNASC  LOCNASC  IDADEMAE  ESTCIVMAE  \\\n",
       "0       1  2679477.0      110001        1        19        5.0   \n",
       "1       1  2679477.0      110001        1        29        2.0   \n",
       "2       1  2679477.0      110001        1        37        9.0   \n",
       "3       1  2516500.0      110001        1        30        5.0   \n",
       "4       1  2516500.0      110001        1        30        2.0   \n",
       "\n",
       "            ESCMAE  CODOCUPMAE  QTDFILVIVO  QTDFILMORT  ...  KOTELCHUCK  \\\n",
       "0      8 a 11 anos         NaN         0.0         0.0  ...           5   \n",
       "1      8 a 11 anos    999992.0         1.0         0.0  ...           5   \n",
       "2      8 a 11 anos    513205.0         2.0         0.0  ...           5   \n",
       "3  12 anos ou mais    231205.0         0.0         0.0  ...           4   \n",
       "4      8 a 11 anos    999992.0         1.0         0.0  ...           5   \n",
       "\n",
       "  CONTADOR munResStatus munResTipo               munResNome  munResUf  \\\n",
       "0        1        ATIVO      MUNIC    Alta Floresta D'Oeste  Rondônia   \n",
       "1        2        ATIVO      MUNIC    Alta Floresta D'Oeste  Rondônia   \n",
       "2        3        ATIVO      MUNIC    Alta Floresta D'Oeste  Rondônia   \n",
       "3        4        ATIVO      MUNIC  Alto Alegre dos Parecis  Rondônia   \n",
       "4        5        ATIVO      MUNIC    Alta Floresta D'Oeste  Rondônia   \n",
       "\n",
       "   munResLat munResLon  munResAlt  munResArea  \n",
       "0  -11.93554 -61.99982      338.0    7067.025  \n",
       "1  -11.93554 -61.99982      338.0    7067.025  \n",
       "2  -11.93554 -61.99982      338.0    7067.025  \n",
       "3  -12.13178 -61.85308      397.0    3958.273  \n",
       "4  -11.93554 -61.99982      338.0    7067.025  \n",
       "\n",
       "[5 rows x 69 columns]"
      ]
     },
     "execution_count": 1,
     "metadata": {},
     "output_type": "execute_result"
    }
   ],
   "source": [
    "import numpy as np\n",
    "import pandas as pd\n",
    "import matplotlib as mpl\n",
    "import matplotlib.pyplot as plt\n",
    "import seaborn as sns\n",
    "%matplotlib inline\n",
    "\n",
    "sinasc = pd.read_csv('sinasc_RO_2019.csv')\n",
    "sinasc.head()"
   ]
  },
  {
   "cell_type": "code",
   "execution_count": 2,
   "id": "990b108f",
   "metadata": {},
   "outputs": [
    {
     "name": "stdout",
     "output_type": "stream",
     "text": [
      "<class 'pandas.core.frame.DataFrame'>\n",
      "RangeIndex: 27028 entries, 0 to 27027\n",
      "Data columns (total 69 columns):\n",
      " #   Column        Non-Null Count  Dtype  \n",
      "---  ------        --------------  -----  \n",
      " 0   ORIGEM        27028 non-null  int64  \n",
      " 1   CODESTAB      26913 non-null  float64\n",
      " 2   CODMUNNASC    27028 non-null  int64  \n",
      " 3   LOCNASC       27028 non-null  int64  \n",
      " 4   IDADEMAE      27028 non-null  int64  \n",
      " 5   ESTCIVMAE     26711 non-null  float64\n",
      " 6   ESCMAE        26716 non-null  object \n",
      " 7   CODOCUPMAE    24121 non-null  float64\n",
      " 8   QTDFILVIVO    25455 non-null  float64\n",
      " 9   QTDFILMORT    24930 non-null  float64\n",
      " 10  CODMUNRES     27028 non-null  int64  \n",
      " 11  GESTACAO      25796 non-null  object \n",
      " 12  GRAVIDEZ      26949 non-null  object \n",
      " 13  PARTO         26979 non-null  object \n",
      " 14  CONSULTAS     27028 non-null  int64  \n",
      " 15  DTNASC        27028 non-null  object \n",
      " 16  HORANASC      27007 non-null  float64\n",
      " 17  SEXO          27024 non-null  object \n",
      " 18  APGAR1        26932 non-null  float64\n",
      " 19  APGAR5        26925 non-null  float64\n",
      " 20  RACACOR       26381 non-null  object \n",
      " 21  PESO          27028 non-null  int64  \n",
      " 22  IDANOMAL      26437 non-null  float64\n",
      " 23  DTCADASTRO    27028 non-null  object \n",
      " 24  CODANOMAL     214 non-null    object \n",
      " 25  NUMEROLOTE    27028 non-null  int64  \n",
      " 26  VERSAOSIST    27028 non-null  object \n",
      " 27  DTRECEBIM     27028 non-null  object \n",
      " 28  DIFDATA       27028 non-null  int64  \n",
      " 29  DTRECORIGA    0 non-null      float64\n",
      " 30  NATURALMAE    26730 non-null  float64\n",
      " 31  CODMUNNATU    26730 non-null  float64\n",
      " 32  CODUFNATU     26730 non-null  float64\n",
      " 33  ESCMAE2010    26779 non-null  float64\n",
      " 34  SERIESCMAE    14318 non-null  float64\n",
      " 35  DTNASCMAE     26988 non-null  float64\n",
      " 36  RACACORMAE    26367 non-null  float64\n",
      " 37  QTDGESTANT    25816 non-null  float64\n",
      " 38  QTDPARTNOR    25149 non-null  float64\n",
      " 39  QTDPARTCES    25237 non-null  float64\n",
      " 40  IDADEPAI      7607 non-null   float64\n",
      " 41  DTULTMENST    16956 non-null  float64\n",
      " 42  SEMAGESTAC    25790 non-null  float64\n",
      " 43  TPMETESTIM    25790 non-null  float64\n",
      " 44  CONSPRENAT    26098 non-null  float64\n",
      " 45  MESPRENAT     24161 non-null  float64\n",
      " 46  TPAPRESENT    26763 non-null  float64\n",
      " 47  STTRABPART    26081 non-null  float64\n",
      " 48  STCESPARTO    26281 non-null  float64\n",
      " 49  TPNASCASSI    26967 non-null  float64\n",
      " 50  TPFUNCRESP    26961 non-null  float64\n",
      " 51  TPDOCRESP     27014 non-null  float64\n",
      " 52  DTDECLARAC    26976 non-null  float64\n",
      " 53  ESCMAEAGR1    26779 non-null  float64\n",
      " 54  STDNEPIDEM    27028 non-null  int64  \n",
      " 55  STDNNOVA      27028 non-null  int64  \n",
      " 56  CODPAISRES    27028 non-null  int64  \n",
      " 57  TPROBSON      27028 non-null  int64  \n",
      " 58  PARIDADE      27028 non-null  int64  \n",
      " 59  KOTELCHUCK    27028 non-null  int64  \n",
      " 60  CONTADOR      27028 non-null  int64  \n",
      " 61  munResStatus  27028 non-null  object \n",
      " 62  munResTipo    27028 non-null  object \n",
      " 63  munResNome    27028 non-null  object \n",
      " 64  munResUf      27028 non-null  object \n",
      " 65  munResLat     27027 non-null  float64\n",
      " 66  munResLon     27027 non-null  float64\n",
      " 67  munResAlt     27027 non-null  float64\n",
      " 68  munResArea    27027 non-null  float64\n",
      "dtypes: float64(38), int64(16), object(15)\n",
      "memory usage: 14.2+ MB\n"
     ]
    }
   ],
   "source": [
    "sinasc.info()"
   ]
  },
  {
   "cell_type": "markdown",
   "id": "0afd6592",
   "metadata": {},
   "source": [
    "### 1.2 Tratamento de dados ausentes"
   ]
  },
  {
   "cell_type": "code",
   "execution_count": 3,
   "id": "38cda691",
   "metadata": {},
   "outputs": [
    {
     "data": {
      "text/plain": [
       "APGAR1         96\n",
       "APGAR5        103\n",
       "SEXO            4\n",
       "GESTACAO     1232\n",
       "ESTCIVMAE     317\n",
       "CONSULTAS       0\n",
       "dtype: int64"
      ]
     },
     "execution_count": 3,
     "metadata": {},
     "output_type": "execute_result"
    }
   ],
   "source": [
    "#Verficando os missing em cada coluna de interesse\n",
    "sinasc.loc[:, ['APGAR1', 'APGAR5', 'SEXO', 'GESTACAO', 'ESTCIVMAE', 'CONSULTAS']].isna().sum()"
   ]
  },
  {
   "cell_type": "code",
   "execution_count": 4,
   "id": "62dc0c9d",
   "metadata": {},
   "outputs": [
    {
     "data": {
      "text/plain": [
       "APGAR5      0\n",
       "SEXO        0\n",
       "GESTACAO    0\n",
       "PESO        0\n",
       "dtype: int64"
      ]
     },
     "execution_count": 4,
     "metadata": {},
     "output_type": "execute_result"
    }
   ],
   "source": [
    "#Removendo linhas com valores ausentes para as colunas APGAR5 e SEXO\n",
    "sinasc.dropna(subset = ['APGAR5', 'SEXO'], inplace = True)\n",
    "#Substituindo valores NaN na coluna GESTACAO\n",
    "sinasc['GESTACAO'].fillna('Ignorado', inplace = True)\n",
    "#Convertendo valores de APGAR5 para tipo inteiro\n",
    "sinasc['APGAR5'] = sinasc['APGAR5'].astype('int')\n",
    "#Contagem de missings após tratamento dos dados ausentes\n",
    "sinasc[['APGAR5','SEXO', 'GESTACAO', 'PESO']].isna().sum()"
   ]
  },
  {
   "cell_type": "code",
   "execution_count": 5,
   "id": "baecb52a",
   "metadata": {},
   "outputs": [
    {
     "data": {
      "text/plain": [
       "37 a 41 semanas        22520\n",
       "32 a 36 semanas         2233\n",
       "Ignorado                1216\n",
       "42 semanas e mais        698\n",
       "28 a 31 semanas          162\n",
       "22 a 27 semanas           85\n",
       "Menos de 22 semanas        7\n",
       "Name: GESTACAO, dtype: int64"
      ]
     },
     "execution_count": 5,
     "metadata": {},
     "output_type": "execute_result"
    }
   ],
   "source": [
    "#Contagem dos valores para cada um das categoria da varíavel GESTACAO\n",
    "sinasc['GESTACAO'].value_counts()"
   ]
  },
  {
   "cell_type": "code",
   "execution_count": 6,
   "id": "8f360328",
   "metadata": {},
   "outputs": [
    {
     "data": {
      "text/plain": [
       "Viúva                       57\n",
       "Separado judicialmente     451\n",
       "Ignorado                   459\n",
       "União consensual          7145\n",
       "Solteira                  8905\n",
       "Casada                    9904\n",
       "Name: ESTCIVMAE, dtype: int64"
      ]
     },
     "execution_count": 6,
     "metadata": {},
     "output_type": "execute_result"
    }
   ],
   "source": [
    "#Reatribuindo valores da coluna EStado civil da mãe \n",
    "sinasc.loc[sinasc['ESTCIVMAE'] == 1, 'ESTCIVMAE'] = 'Solteira'\n",
    "sinasc.loc[sinasc['ESTCIVMAE'] == 2, 'ESTCIVMAE'] = 'Casada'\n",
    "sinasc.loc[sinasc['ESTCIVMAE'] == 3, 'ESTCIVMAE'] = 'Viúva'\n",
    "sinasc.loc[sinasc['ESTCIVMAE'] == 4, 'ESTCIVMAE'] = 'Separado judicialmente'\n",
    "sinasc.loc[sinasc['ESTCIVMAE'] == 5, 'ESTCIVMAE'] = 'União consensual'\n",
    "sinasc.loc[sinasc['ESTCIVMAE'] == 9, 'ESTCIVMAE'] = 'Ignorado'\n",
    "#Preenchindo os missings com o valor 'Ignorado'\n",
    "sinasc['ESTCIVMAE'].fillna('Ignorado', inplace = True)\n",
    "#Cotagem dos valores de cada categoria estado civil\n",
    "sinasc['ESTCIVMAE'].value_counts().sort_values()"
   ]
  },
  {
   "cell_type": "code",
   "execution_count": 7,
   "id": "bc79c354",
   "metadata": {},
   "outputs": [
    {
     "data": {
      "text/plain": [
       "7 ou mais    18583\n",
       "De 4 a 6      5957\n",
       "De 2 a 3      1359\n",
       "Nenhuma        972\n",
       "Ignorado        50\n",
       "Name: CONSULTAS, dtype: int64"
      ]
     },
     "execution_count": 7,
     "metadata": {},
     "output_type": "execute_result"
    }
   ],
   "source": [
    "#Substituindo valores da varíavel consulta\n",
    "sinasc.loc[sinasc['CONSULTAS'] == 1, 'CONSULTAS'] = 'Nenhuma'\n",
    "sinasc.loc[sinasc['CONSULTAS'] == 2, 'CONSULTAS'] = 'De 2 a 3'\n",
    "sinasc.loc[sinasc['CONSULTAS'] == 3, 'CONSULTAS'] = 'De 4 a 6'\n",
    "sinasc.loc[sinasc['CONSULTAS'] == 4, 'CONSULTAS'] = '7 ou mais'\n",
    "sinasc.loc[sinasc['CONSULTAS'] == 9, 'CONSULTAS'] = 'Ignorado'\n",
    "#Contagem dos valores\n",
    "sinasc['CONSULTAS'].value_counts()"
   ]
  },
  {
   "cell_type": "markdown",
   "id": "064059ea",
   "metadata": {},
   "source": [
    "## 2 Entendimento dos Dados"
   ]
  },
  {
   "cell_type": "markdown",
   "id": "cd44d631",
   "metadata": {},
   "source": [
    "### 2.1 Frequências das variáveis qualitativas"
   ]
  },
  {
   "cell_type": "code",
   "execution_count": 8,
   "id": "6f7da9ab",
   "metadata": {},
   "outputs": [],
   "source": [
    "def countplot_grid(nrows: int, ncols: int, cols: list, data: pd.DataFrame, palettes: list,\n",
    "                   figsize = (12,8), wspace = 0.4, hspace = 0.7):\n",
    "    with mpl.style.context('seaborn-whitegrid'):\n",
    "        fig = plt.figure(figsize = figsize)\n",
    "        plt.subplots_adjust(wspace = wspace, hspace = hspace)\n",
    "        for i, (col, palette) in enumerate(zip(cols, palettes)):\n",
    "            ax = fig.add_subplot(nrows, ncols, i+1)\n",
    "            if(col == 'SEXO'):\n",
    "                sns.countplot(ax = ax, y = col, data = data, palette = palette)\n",
    "            else:\n",
    "                sns.countplot(ax = ax, \n",
    "                              x = col, \n",
    "                              data = data,\n",
    "                              order = data[col].value_counts().sort_values().index,\n",
    "                              palette = palette)\n",
    "            ax.tick_params(axis = 'x', rotation = 30)\n",
    "            ax.set_title(f'Frquência da variável: {col}', fontweight = 'bold')"
   ]
  },
  {
   "cell_type": "markdown",
   "id": "b22c3840",
   "metadata": {},
   "source": [
    "#### 2.1.1 Variáveis referentes ao bebê e a gestação"
   ]
  },
  {
   "cell_type": "code",
   "execution_count": 9,
   "id": "8519135a",
   "metadata": {},
   "outputs": [
    {
     "data": {
      "image/png": "[encoded data removed]",
      "text/plain": [
       "<Figure size 864x576 with 4 Axes>"
      ]
     },
     "metadata": {},
     "output_type": "display_data"
    }
   ],
   "source": [
    "cols = ['SEXO', 'GESTACAO', 'CONSULTAS', 'RACACOR']\n",
    "pcolors = ['hsv', 'colorblind', 'bright', 'husl']\n",
    "\n",
    "countplot_grid(nrows = 2,ncols = 2, cols = cols, data = sinasc, palettes = pcolors)"
   ]
  },
  {
   "cell_type": "markdown",
   "id": "38a1c08a",
   "metadata": {},
   "source": [
    "#### 2.1.2 Variáveis referentes a mãe"
   ]
  },
  {
   "cell_type": "code",
   "execution_count": 10,
   "id": "6968b939",
   "metadata": {},
   "outputs": [
    {
     "data": {
      "image/png": "[encoded data removed]",
      "text/plain": [
       "<Figure size 1152x288 with 3 Axes>"
      ]
     },
     "metadata": {},
     "output_type": "display_data"
    }
   ],
   "source": [
    "cols = ['ESTCIVMAE', 'ESCMAE', 'RACACORMAE']\n",
    "pcolors = ['hsv', 'colorblind', 'husl']\n",
    "\n",
    "countplot_grid(nrows = 1,ncols = 3, cols = cols, data = sinasc, palettes = pcolors, figsize = (16, 4))"
   ]
  },
  {
   "cell_type": "markdown",
   "id": "ea22f028",
   "metadata": {},
   "source": [
    "### 2.2 Distribuição das variáveis quantitativas"
   ]
  },
  {
   "cell_type": "markdown",
   "id": "65b7a4e0",
   "metadata": {},
   "source": [
    "#### 2.2.1 Variáveis *target*"
   ]
  },
  {
   "cell_type": "code",
   "execution_count": 11,
   "id": "b3b8e138",
   "metadata": {},
   "outputs": [
    {
     "data": {
      "image/png": "[encoded data removed]",
      "text/plain": [
       "<Figure size 864x432 with 2 Axes>"
      ]
     },
     "metadata": {
      "needs_background": "light"
     },
     "output_type": "display_data"
    }
   ],
   "source": [
    "fig, axs = plt.subplots(1, 2, figsize = (12, 6))\n",
    "sns.histplot(ax = axs[0], data = sinasc, x = 'APGAR1',hue = 'SEXO',bins = 10, multiple = 'stack')\n",
    "sns.histplot(ax = axs[1], data = sinasc, x = 'APGAR5',hue = 'SEXO',bins = 10, multiple = 'stack')\n",
    "plt.subplots_adjust(wspace = 0.4)"
   ]
  },
  {
   "cell_type": "code",
   "execution_count": 12,
   "id": "aab51119",
   "metadata": {},
   "outputs": [
    {
     "name": "stdout",
     "output_type": "stream",
     "text": [
      "APGAR1 >= 8: 0.8837\n",
      "APGAR5 >= 8: 0.9829\n"
     ]
    }
   ],
   "source": [
    "print(f'APGAR1 >= 8: {np.mean(sinasc.APGAR1 >= 8):.4f}')\n",
    "print(f'APGAR5 >= 8: {np.mean(sinasc.APGAR5 >= 8):.4f}')"
   ]
  },
  {
   "cell_type": "markdown",
   "id": "41312ee9",
   "metadata": {},
   "source": [
    "Mais de 98% dos dados de `APGAR5` se encontra na faixa de 8 a 10, faixa considerada **normal**."
   ]
  },
  {
   "cell_type": "markdown",
   "id": "41fcb86e",
   "metadata": {},
   "source": [
    "#### 2.2.2 Boxplots"
   ]
  },
  {
   "cell_type": "code",
   "execution_count": 13,
   "id": "4cef91d8",
   "metadata": {},
   "outputs": [],
   "source": [
    "def boxplot_grid(nrows: int, ncols: int, cols: list, data: pd.DataFrame, color = 'Blue',\n",
    "                figsize = (12,8), wspace = 0.4, hspace = 0.2):\n",
    "    fig,axes = plt.subplots(nrows, ncols, figsize = figsize)\n",
    "    axs = fig.get_axes()\n",
    "    for i, col in enumerate(cols):\n",
    "        sns.boxplot(ax = axs[i],\n",
    "                    y = col,\n",
    "                    data = data,\n",
    "                    saturation = 1,\n",
    "                    width = 0.4,\n",
    "                    linewidth = 1,\n",
    "                    fliersize = 2.5);\n",
    "    fig.delaxes(axs[len(cols)])\n",
    "    plt.subplots_adjust(wspace = wspace, hspace = hspace)"
   ]
  },
  {
   "cell_type": "code",
   "execution_count": 14,
   "id": "dca4d2b2",
   "metadata": {},
   "outputs": [
    {
     "data": {
      "image/png": "[encoded data removed]",
      "text/plain": [
       "<Figure size 1152x720 with 5 Axes>"
      ]
     },
     "metadata": {
      "needs_background": "light"
     },
     "output_type": "display_data"
    }
   ],
   "source": [
    "vars_quant = ['IDADEMAE', 'IDADEPAI', 'QTDFILVIVO', 'QTDFILMORT', 'PESO']\n",
    "\n",
    "boxplot_grid(nrows = 2,ncols = 3, cols = vars_quant, data = sinasc, figsize = (16, 10))"
   ]
  },
  {
   "cell_type": "markdown",
   "id": "a7188b2d",
   "metadata": {},
   "source": [
    "#### 2.2.3 histograma da idade da mãe e do peso do bebê"
   ]
  },
  {
   "cell_type": "code",
   "execution_count": 15,
   "id": "60f3157f",
   "metadata": {},
   "outputs": [
    {
     "data": {
      "image/png": "[encoded data removed]",
      "text/plain": [
       "<Figure size 864x432 with 2 Axes>"
      ]
     },
     "metadata": {
      "needs_background": "light"
     },
     "output_type": "display_data"
    }
   ],
   "source": [
    "cols = ['IDADEMAE', 'PESO']\n",
    "fig, axs = plt.subplots(1, 2, figsize = (12, 6))\n",
    "axs = fig.get_axes()\n",
    "for ax, col in zip(axs, cols):\n",
    "    sns.histplot(ax = ax,\n",
    "                data = sinasc,\n",
    "                alpha = 0.5,\n",
    "                x = col,\n",
    "                bins = 20,\n",
    "                kde = True);\n",
    "plt.subplots_adjust(wspace = 0.4)"
   ]
  },
  {
   "cell_type": "markdown",
   "id": "d6c4245d",
   "metadata": {},
   "source": [
    "## 3 Relação entre as variáveis `APGAR5` e `APGAR1` e as demais"
   ]
  },
  {
   "cell_type": "markdown",
   "id": "c3e10763",
   "metadata": {},
   "source": [
    "### 3.1 Sexo do bebê"
   ]
  },
  {
   "cell_type": "code",
   "execution_count": 16,
   "id": "487983a7",
   "metadata": {},
   "outputs": [
    {
     "data": {
      "image/png": "[encoded data removed]",
      "text/plain": [
       "<Figure size 576x360 with 2 Axes>"
      ]
     },
     "metadata": {
      "needs_background": "light"
     },
     "output_type": "display_data"
    }
   ],
   "source": [
    "#Plotagem do valor médio do APGAR1 e APGAR5 por sexo \n",
    "with mpl.rc_context({'figure.subplot.wspace': 0.4}):\n",
    "    plt.close('all')\n",
    "    fig, ax = plt.subplots(1, 2, figsize = (8, 5))\n",
    "    cols = ['APGAR1', 'APGAR5']\n",
    "    for ax, col in zip(fig.get_axes(), cols):\n",
    "        sns.barplot(ax = ax, x = 'SEXO', y = col, data = sinasc, palette = 'pastel')\n",
    "        #Criando títulos\n",
    "        ax.set_title(f\"Valor Médio do {col} por Sexo\", fontweight = 'bold')"
   ]
  },
  {
   "cell_type": "markdown",
   "id": "97e35a26",
   "metadata": {},
   "source": [
    "### 3.2 Semanas de gestação"
   ]
  },
  {
   "cell_type": "markdown",
   "id": "9b1a8247",
   "metadata": {},
   "source": [
    "#### 3.2.1 APGAR5 e APGAR1 por tempo de Gestação"
   ]
  },
  {
   "cell_type": "code",
   "execution_count": 17,
   "id": "ca96c706",
   "metadata": {},
   "outputs": [
    {
     "data": {
      "image/png": "[encoded data removed]",
      "text/plain": [
       "<Figure size 432x720 with 2 Axes>"
      ]
     },
     "metadata": {
      "needs_background": "light"
     },
     "output_type": "display_data"
    }
   ],
   "source": [
    "nomes_grupo = sinasc.groupby('GESTACAO')['APGAR5'].mean().sort_values().index\n",
    "\n",
    "with mpl.rc_context({'axes.spines.right': False, 'axes.spines.top': False, 'figure.subplot.hspace': 0.5}):\n",
    "    plt.close('all')\n",
    "    fig, ax = plt.subplots(2, 1, figsize = (6, 10))\n",
    "    #Ordenando as barras pelo valor médio do APGAR\n",
    "    for ax, col in zip(fig.get_axes(), ['APGAR5', 'APGAR1']):\n",
    "        sns.barplot(ax = ax, \n",
    "                    x = 'GESTACAO', \n",
    "                    y = col, \n",
    "                    data = sinasc,\n",
    "                    order = nomes_grupo, \n",
    "                    palette = 'husl',\n",
    "                    errcolor = 'r', \n",
    "                    errwidth = 1.2, \n",
    "                    capsize = 0.2)\n",
    "\n",
    "        #Nomeando rótulo no eixo x\n",
    "        ax.set_xlabel('Tempo de Gestação', fontsize = 10)\n",
    "        #Rotacionando os ticks no eixo x\n",
    "        ax.tick_params(axis = 'x', rotation = 25)\n",
    "        #Colocando o título\n",
    "        ax.set_title(f'Valor Médio do {col} por Tempo de Gestação', fontsize = 10, fontweight = 'bold', y = 1.02)"
   ]
  },
  {
   "cell_type": "markdown",
   "id": "881ad1df",
   "metadata": {},
   "source": [
    "#### 3.2.2 APGAR1 e APGAR5 médio por tempo de Gestação de acordo com o sexo"
   ]
  },
  {
   "cell_type": "code",
   "execution_count": 18,
   "id": "e120463e",
   "metadata": {},
   "outputs": [
    {
     "data": {
      "image/png": "[encoded data removed]",
      "text/plain": [
       "<Figure size 576x720 with 2 Axes>"
      ]
     },
     "metadata": {
      "needs_background": "light"
     },
     "output_type": "display_data"
    }
   ],
   "source": [
    "cols = ['APGAR1', 'APGAR5']\n",
    "palette_colors = ['husl', 'cool']\n",
    "with mpl.rc_context({'axes.spines.top': False, 'axes.spines.right': False, 'figure.constrained_layout.use': True}):\n",
    "    fig, ax = plt.subplots(2, 1, figsize = (8, 10))\n",
    "    for ax, col, palette_color in zip(fig.get_axes(), cols, palette_colors):\n",
    "        sns.barplot(ax = ax, \n",
    "                    x = 'GESTACAO', \n",
    "                    y = col, \n",
    "                    hue = 'SEXO',\n",
    "                    data = sinasc,\n",
    "                    order = nomes_grupo,\n",
    "                    palette = palette_color,\n",
    "                    errcolor = 'r',\n",
    "                    errwidth = 1.2,\n",
    "                    capsize = 0.2)\n",
    "\n",
    "        #Rotação dos ticks no eixo x\n",
    "        ax.tick_params(axis = 'x', rotation = 30)\n",
    "        #Eixo x\n",
    "        ax.set_xlabel('Tempo de Gestação', fontsize = 10)\n",
    "        #Título\n",
    "        ax.set_title('Valor médio do APGAR5 por tempo de Gestação por Sexo', fontsize = 10, fontweight = 'bold', y = 1.02)\n",
    "        #Legendas\n",
    "        ax.legend(loc='right', bbox_to_anchor = (1.2, 0.1))"
   ]
  },
  {
   "cell_type": "markdown",
   "id": "d0374c37",
   "metadata": {},
   "source": [
    "#### 3.2.3 Distribuição dos valores de APGAR5 para categorias de gestação"
   ]
  },
  {
   "cell_type": "code",
   "execution_count": 19,
   "id": "dcddeaeb",
   "metadata": {},
   "outputs": [
    {
     "data": {
      "text/html": [
       "<div>\n",
       "<style scoped>\n",
       "    .dataframe tbody tr th:only-of-type {\n",
       "        vertical-align: middle;\n",
       "    }\n",
       "\n",
       "    .dataframe tbody tr th {\n",
       "        vertical-align: top;\n",
       "    }\n",
       "\n",
       "    .dataframe thead th {\n",
       "        text-align: right;\n",
       "    }\n",
       "</style>\n",
       "<table border=\"1\" class=\"dataframe\">\n",
       "  <thead>\n",
       "    <tr style=\"text-align: right;\">\n",
       "      <th>APGAR5</th>\n",
       "      <th>0</th>\n",
       "      <th>1</th>\n",
       "      <th>2</th>\n",
       "      <th>3</th>\n",
       "      <th>4</th>\n",
       "      <th>5</th>\n",
       "      <th>6</th>\n",
       "      <th>7</th>\n",
       "      <th>8</th>\n",
       "      <th>9</th>\n",
       "      <th>10</th>\n",
       "    </tr>\n",
       "    <tr>\n",
       "      <th>GESTACAO</th>\n",
       "      <th></th>\n",
       "      <th></th>\n",
       "      <th></th>\n",
       "      <th></th>\n",
       "      <th></th>\n",
       "      <th></th>\n",
       "      <th></th>\n",
       "      <th></th>\n",
       "      <th></th>\n",
       "      <th></th>\n",
       "      <th></th>\n",
       "    </tr>\n",
       "  </thead>\n",
       "  <tbody>\n",
       "    <tr>\n",
       "      <th>Menos de 22 semanas</th>\n",
       "      <td>0.142857</td>\n",
       "      <td>0.000000</td>\n",
       "      <td>0.142857</td>\n",
       "      <td>0.000000</td>\n",
       "      <td>0.000000</td>\n",
       "      <td>0.000000</td>\n",
       "      <td>0.000000</td>\n",
       "      <td>0.142857</td>\n",
       "      <td>0.000000</td>\n",
       "      <td>0.428571</td>\n",
       "      <td>0.142857</td>\n",
       "    </tr>\n",
       "    <tr>\n",
       "      <th>22 a 27 semanas</th>\n",
       "      <td>0.082353</td>\n",
       "      <td>0.000000</td>\n",
       "      <td>0.094118</td>\n",
       "      <td>0.070588</td>\n",
       "      <td>0.011765</td>\n",
       "      <td>0.000000</td>\n",
       "      <td>0.023529</td>\n",
       "      <td>0.117647</td>\n",
       "      <td>0.282353</td>\n",
       "      <td>0.223529</td>\n",
       "      <td>0.094118</td>\n",
       "    </tr>\n",
       "    <tr>\n",
       "      <th>28 a 31 semanas</th>\n",
       "      <td>0.000000</td>\n",
       "      <td>0.000000</td>\n",
       "      <td>0.012346</td>\n",
       "      <td>0.006173</td>\n",
       "      <td>0.030864</td>\n",
       "      <td>0.043210</td>\n",
       "      <td>0.043210</td>\n",
       "      <td>0.067901</td>\n",
       "      <td>0.376543</td>\n",
       "      <td>0.339506</td>\n",
       "      <td>0.080247</td>\n",
       "    </tr>\n",
       "    <tr>\n",
       "      <th>32 a 36 semanas</th>\n",
       "      <td>0.000896</td>\n",
       "      <td>0.000896</td>\n",
       "      <td>0.000448</td>\n",
       "      <td>0.000896</td>\n",
       "      <td>0.003583</td>\n",
       "      <td>0.004926</td>\n",
       "      <td>0.007613</td>\n",
       "      <td>0.025078</td>\n",
       "      <td>0.162114</td>\n",
       "      <td>0.585311</td>\n",
       "      <td>0.208240</td>\n",
       "    </tr>\n",
       "    <tr>\n",
       "      <th>37 a 41 semanas</th>\n",
       "      <td>0.000222</td>\n",
       "      <td>0.000888</td>\n",
       "      <td>0.000133</td>\n",
       "      <td>0.000222</td>\n",
       "      <td>0.000311</td>\n",
       "      <td>0.000933</td>\n",
       "      <td>0.001954</td>\n",
       "      <td>0.006705</td>\n",
       "      <td>0.062922</td>\n",
       "      <td>0.602309</td>\n",
       "      <td>0.323401</td>\n",
       "    </tr>\n",
       "    <tr>\n",
       "      <th>42 semanas e mais</th>\n",
       "      <td>0.001433</td>\n",
       "      <td>0.000000</td>\n",
       "      <td>0.000000</td>\n",
       "      <td>0.000000</td>\n",
       "      <td>0.000000</td>\n",
       "      <td>0.001433</td>\n",
       "      <td>0.001433</td>\n",
       "      <td>0.007163</td>\n",
       "      <td>0.063037</td>\n",
       "      <td>0.606017</td>\n",
       "      <td>0.319484</td>\n",
       "    </tr>\n",
       "    <tr>\n",
       "      <th>Ignorado</th>\n",
       "      <td>0.000822</td>\n",
       "      <td>0.001645</td>\n",
       "      <td>0.001645</td>\n",
       "      <td>0.000822</td>\n",
       "      <td>0.001645</td>\n",
       "      <td>0.004112</td>\n",
       "      <td>0.005757</td>\n",
       "      <td>0.005757</td>\n",
       "      <td>0.070724</td>\n",
       "      <td>0.578947</td>\n",
       "      <td>0.328125</td>\n",
       "    </tr>\n",
       "  </tbody>\n",
       "</table>\n",
       "</div>"
      ],
      "text/plain": [
       "APGAR5                     0         1         2         3         4   \\\n",
       "GESTACAO                                                                \n",
       "Menos de 22 semanas  0.142857  0.000000  0.142857  0.000000  0.000000   \n",
       "22 a 27 semanas      0.082353  0.000000  0.094118  0.070588  0.011765   \n",
       "28 a 31 semanas      0.000000  0.000000  0.012346  0.006173  0.030864   \n",
       "32 a 36 semanas      0.000896  0.000896  0.000448  0.000896  0.003583   \n",
       "37 a 41 semanas      0.000222  0.000888  0.000133  0.000222  0.000311   \n",
       "42 semanas e mais    0.001433  0.000000  0.000000  0.000000  0.000000   \n",
       "Ignorado             0.000822  0.001645  0.001645  0.000822  0.001645   \n",
       "\n",
       "APGAR5                     5         6         7         8         9   \\\n",
       "GESTACAO                                                                \n",
       "Menos de 22 semanas  0.000000  0.000000  0.142857  0.000000  0.428571   \n",
       "22 a 27 semanas      0.000000  0.023529  0.117647  0.282353  0.223529   \n",
       "28 a 31 semanas      0.043210  0.043210  0.067901  0.376543  0.339506   \n",
       "32 a 36 semanas      0.004926  0.007613  0.025078  0.162114  0.585311   \n",
       "37 a 41 semanas      0.000933  0.001954  0.006705  0.062922  0.602309   \n",
       "42 semanas e mais    0.001433  0.001433  0.007163  0.063037  0.606017   \n",
       "Ignorado             0.004112  0.005757  0.005757  0.070724  0.578947   \n",
       "\n",
       "APGAR5                     10  \n",
       "GESTACAO                       \n",
       "Menos de 22 semanas  0.142857  \n",
       "22 a 27 semanas      0.094118  \n",
       "28 a 31 semanas      0.080247  \n",
       "32 a 36 semanas      0.208240  \n",
       "37 a 41 semanas      0.323401  \n",
       "42 semanas e mais    0.319484  \n",
       "Ignorado             0.328125  "
      ]
     },
     "execution_count": 19,
     "metadata": {},
     "output_type": "execute_result"
    }
   ],
   "source": [
    "#Tabela cruzada com APGAR5 nas colunas e GESTACAO nas linhas.\n",
    "categorias = ['Menos de 22 semanas', '22 a 27 semanas', '28 a 31 semanas', \n",
    "                '32 a 36 semanas', '37 a 41 semanas', '42 semanas e mais',\n",
    "              'Ignorado']\n",
    "freq_percentual = pd.crosstab(sinasc['GESTACAO'], sinasc['APGAR5'], normalize = 'index') \\\n",
    "                    .reindex(categorias)\n",
    "freq_percentual"
   ]
  },
  {
   "cell_type": "code",
   "execution_count": 20,
   "id": "be83cbdd",
   "metadata": {},
   "outputs": [
    {
     "data": {
      "text/plain": [
       "GESTACAO\n",
       "Menos de 22 semanas    1.0\n",
       "22 a 27 semanas        1.0\n",
       "28 a 31 semanas        1.0\n",
       "32 a 36 semanas        1.0\n",
       "37 a 41 semanas        1.0\n",
       "42 semanas e mais      1.0\n",
       "Ignorado               1.0\n",
       "dtype: float64"
      ]
     },
     "execution_count": 20,
     "metadata": {},
     "output_type": "execute_result"
    }
   ],
   "source": [
    "#Verificando se os percentuais de cada somam 1 (100%)\n",
    "freq_percentual.sum(axis = 1)"
   ]
  },
  {
   "cell_type": "code",
   "execution_count": 21,
   "id": "162cbd2d",
   "metadata": {},
   "outputs": [
    {
     "data": {
      "image/png": "[encoded data removed]",
      "text/plain": [
       "<Figure size 1080x576 with 6 Axes>"
      ]
     },
     "metadata": {
      "needs_background": "light"
     },
     "output_type": "display_data"
    }
   ],
   "source": [
    "#Gráficos-Distribuição percentual dos valores de APGAR5 para categorias de gestação\n",
    "\n",
    "from matplotlib import ticker\n",
    "\n",
    "valores_APGAR5 = freq_percentual.columns\n",
    "categorias = ['Menos de 22 semanas', '22 a 27 semanas', '28 a 31 semanas', \n",
    "                '32 a 36 semanas', '37 a 41 semanas', '42 semanas e mais']\n",
    "with mpl.rc_context({'figure.subplot.wspace': 0.3, 'figure.subplot.hspace': 0.4}):\n",
    "    #plt.subplots_adjust(wspace = 0.3, hspace = 0.4)\n",
    "    fig = plt.figure(figsize = (15, 8))\n",
    "\n",
    "    for i, categoria in enumerate(categorias):\n",
    "        ax = fig.add_subplot(3, 3, i+1)\n",
    "        ax.bar(valores_APGAR5, freq_percentual.loc[categoria])\n",
    "        ax.yaxis.set_major_formatter(ticker.PercentFormatter(decimals = 2))\n",
    "        ax.set_title(f'{categoria}')\n"
   ]
  },
  {
   "cell_type": "code",
   "execution_count": 22,
   "id": "4468fad9",
   "metadata": {},
   "outputs": [
    {
     "data": {
      "image/png": "[encoded data removed]",
      "text/plain": [
       "<Figure size 1008x576 with 6 Axes>"
      ]
     },
     "metadata": {
      "needs_background": "light"
     },
     "output_type": "display_data"
    }
   ],
   "source": [
    "#Gráficos-Distribuição de APGAR5 por sexo para categorias de gestação\n",
    "categorias = ['Menos de 22 semanas', '22 a 27 semanas', '28 a 31 semanas', \n",
    "                '32 a 36 semanas', '37 a 41 semanas', '42 semanas e mais']\n",
    "\n",
    "with mpl.rc_context({'axes.spines.top': False, 'axes.spines.right': False}):\n",
    "    fig, axs = plt.subplots(2, 3, figsize = (14, 8))\n",
    "    #Ajuste dos gráficos\n",
    "    plt.subplots_adjust(wspace = 0.3, hspace = 0.4)\n",
    "    \n",
    "    axes = fig.get_axes()\n",
    "    for ax, categoria in zip(axes, categorias):\n",
    "        sns.countplot(ax = ax, \n",
    "                      x = 'APGAR5', \n",
    "                      hue = 'SEXO', \n",
    "                      data = sinasc[sinasc['GESTACAO'] == categoria], \n",
    "                      palette = 'husl')\n",
    "        ax.set_title(f'{categoria}')\n",
    "        ax.legend(loc = 'upper left')"
   ]
  },
  {
   "cell_type": "markdown",
   "id": "5d252688",
   "metadata": {},
   "source": [
    "**Os médicos costumam classificar parto prematuro quando a gestação tem menos que 37 semanas. Faremos um gráfico de barras da tabela cruzada acima, a fim de concluir se este conjunto de dados corrobora ou não com a afirmação dos médicos.**"
   ]
  },
  {
   "cell_type": "code",
   "execution_count": 23,
   "id": "450c86f4",
   "metadata": {},
   "outputs": [
    {
     "data": {
      "image/png": "[encoded data removed]",
      "text/plain": [
       "<Figure size 864x576 with 1 Axes>"
      ]
     },
     "metadata": {
      "needs_background": "light"
     },
     "output_type": "display_data"
    }
   ],
   "source": [
    "#Plotagem do gráfico de barras empilhadas\n",
    "g = freq_percentual.plot(kind = 'bar', stacked = True, figsize = (12, 8))\n",
    "\n",
    "for bar in g.patches:\n",
    "    prop = bar.get_height()\n",
    "    plt.text(x = bar.get_x() + bar.get_width()/2,\n",
    "             y = bar.get_y() + bar.get_height()/2,\n",
    "             s = f'{prop:.2%}',\n",
    "             fontweight = 'bold',\n",
    "             ha = 'center')\n",
    "    \n",
    "plt.legend(loc = 'lower right', bbox_to_anchor = (1.1, 0));"
   ]
  },
  {
   "cell_type": "markdown",
   "id": "e2e6a86a",
   "metadata": {},
   "source": [
    "Percebe-se que para tempos de gestação acima de 32 semanas, há uma maior concentração de valores de APGAR5 entre 8 e 10, faixa de valores consideradas normais. No entanto, é possível obervar uma concentração significativa (acima de 50%) em torno desse valores para grupos com menos de 32 semanas. O que se observa é um maior espalhamento dos valores de APGAR5 para outras faixas de valores não considerados normais. Contudo, o fato de crianças terem nascidas antes de 37 semanas de gestação não é suficiente para afirmar que serão prematuras."
   ]
  },
  {
   "cell_type": "markdown",
   "id": "9ef5bc38",
   "metadata": {},
   "source": [
    "### 3.3 Estado civil da Mãe"
   ]
  },
  {
   "cell_type": "code",
   "execution_count": 24,
   "id": "b0e95710",
   "metadata": {},
   "outputs": [
    {
     "data": {
      "text/plain": [
       "ESTCIVMAE\n",
       "Casada                    9.217387\n",
       "Ignorado                  9.187364\n",
       "Separado judicialmente    9.141907\n",
       "Solteira                  9.113307\n",
       "União consensual          9.211197\n",
       "Viúva                     9.210526\n",
       "Name: APGAR5, dtype: float64"
      ]
     },
     "execution_count": 24,
     "metadata": {},
     "output_type": "execute_result"
    }
   ],
   "source": [
    "APGAR5_med_ESTCIVMAE = sinasc.groupby('ESTCIVMAE')['APGAR5'].mean()\n",
    "APGAR5_med_ESTCIVMAE"
   ]
  },
  {
   "cell_type": "code",
   "execution_count": 25,
   "id": "6dbc26c6",
   "metadata": {},
   "outputs": [
    {
     "data": {
      "image/png": "[encoded data removed]",
      "text/plain": [
       "<Figure size 432x288 with 1 Axes>"
      ]
     },
     "metadata": {
      "needs_background": "light"
     },
     "output_type": "display_data"
    }
   ],
   "source": [
    "#Plotagem do APGAR5 médio por Estado civil da mãe, usando barplot\n",
    "fig, ax = plt.subplots(figsize = (6, 4))\n",
    "sns.barplot(ax = ax, \n",
    "            x='ESTCIVMAE', \n",
    "            y = 'APGAR5', \n",
    "            data = sinasc,\n",
    "            order = APGAR5_med_ESTCIVMAE.sort_values().index, \n",
    "            palette = 'bright')\n",
    "#Rotação dos ticks no eixo x\n",
    "ax.tick_params(axis = 'x', rotation = 30)\n",
    "#Adicionando rótulos aos eixos e um título\n",
    "ax.set(xlabel = 'Estado civil da mãe', ylabel = 'APGAR5 Médio', title = 'APGAR5 Médio por Estado Civil da Mãe');"
   ]
  },
  {
   "cell_type": "markdown",
   "id": "21809d42",
   "metadata": {},
   "source": [
    "### 3.4 Número de consultas pré-natal"
   ]
  },
  {
   "cell_type": "code",
   "execution_count": 26,
   "id": "37bb4fe3",
   "metadata": {},
   "outputs": [
    {
     "data": {
      "text/plain": [
       "CONSULTAS\n",
       "7 ou mais    9.207717\n",
       "De 2 a 3     9.057395\n",
       "De 4 a 6     9.154440\n",
       "Ignorado     8.860000\n",
       "Nenhuma      8.981481\n",
       "Name: APGAR5, dtype: float64"
      ]
     },
     "execution_count": 26,
     "metadata": {},
     "output_type": "execute_result"
    }
   ],
   "source": [
    "APGAR5_med_consultas = sinasc.groupby('CONSULTAS')['APGAR5'].mean()\n",
    "APGAR5_med_consultas"
   ]
  },
  {
   "cell_type": "code",
   "execution_count": 27,
   "id": "56e1399e",
   "metadata": {},
   "outputs": [
    {
     "data": {
      "image/png": "[encoded data removed]",
      "text/plain": [
       "<Figure size 432x288 with 1 Axes>"
      ]
     },
     "metadata": {
      "needs_background": "light"
     },
     "output_type": "display_data"
    }
   ],
   "source": [
    "ax = sns.barplot(x = 'CONSULTAS', \n",
    "                 y = 'APGAR5', \n",
    "                 estimator = np.mean, \n",
    "                 data = sinasc,\n",
    "                 order = APGAR5_med_consultas.sort_values().index, \n",
    "                 palette = 'dark')\n",
    "ax.set_title('APGAR5 Médio por Nº de Consultas', fontsize = 12, fontweight = 'bold', y = 1.02);"
   ]
  },
  {
   "cell_type": "markdown",
   "id": "e004d2a4",
   "metadata": {},
   "source": [
    "### 3.5 Peso ao nascer (em gramas)"
   ]
  },
  {
   "cell_type": "markdown",
   "id": "22f9cc94",
   "metadata": {},
   "source": [
    "#### 3.5.1 Barplot"
   ]
  },
  {
   "cell_type": "code",
   "execution_count": 28,
   "id": "9191a54e",
   "metadata": {},
   "outputs": [
    {
     "data": {
      "image/png": "[encoded data removed]",
      "text/plain": [
       "<Figure size 432x288 with 1 Axes>"
      ]
     },
     "metadata": {
      "needs_background": "light"
     },
     "output_type": "display_data"
    }
   ],
   "source": [
    "sns.barplot(x = 'APGAR5', \n",
    "            y = 'PESO', \n",
    "            data = sinasc, \n",
    "            palette = 'husl');"
   ]
  },
  {
   "cell_type": "markdown",
   "id": "61734fc7",
   "metadata": {},
   "source": [
    "#### 3.5.2 Boxplot"
   ]
  },
  {
   "cell_type": "code",
   "execution_count": 29,
   "id": "30655bd5",
   "metadata": {},
   "outputs": [
    {
     "data": {
      "image/png": "[encoded data removed]",
      "text/plain": [
       "<Figure size 1080x576 with 1 Axes>"
      ]
     },
     "metadata": {
      "needs_background": "light"
     },
     "output_type": "display_data"
    }
   ],
   "source": [
    "fig, ax = plt.subplots(figsize = (15, 8))\n",
    "sns.boxplot(ax = ax, \n",
    "            y = 'PESO', \n",
    "            x = 'APGAR5', \n",
    "            data = sinasc, \n",
    "            palette = 'husl', \n",
    "            saturation = 1, \n",
    "            linewidth = 1, \n",
    "            fliersize = 2.5);"
   ]
  },
  {
   "cell_type": "markdown",
   "id": "f8969259",
   "metadata": {},
   "source": [
    "**Categorizando a variável APGAR5:**\n",
    "\n",
    "- 0 a 3: 'asfixia grave'\n",
    "- 4 a 5: 'asfixia moderada'\n",
    "- 6 a 7: 'asfixia leve'\n",
    "- 8 a 10: 'normal'"
   ]
  },
  {
   "cell_type": "code",
   "execution_count": 30,
   "id": "daf63551",
   "metadata": {},
   "outputs": [
    {
     "data": {
      "text/html": [
       "<div>\n",
       "<style scoped>\n",
       "    .dataframe tbody tr th:only-of-type {\n",
       "        vertical-align: middle;\n",
       "    }\n",
       "\n",
       "    .dataframe tbody tr th {\n",
       "        vertical-align: top;\n",
       "    }\n",
       "\n",
       "    .dataframe thead th {\n",
       "        text-align: right;\n",
       "    }\n",
       "</style>\n",
       "<table border=\"1\" class=\"dataframe\">\n",
       "  <thead>\n",
       "    <tr style=\"text-align: right;\">\n",
       "      <th></th>\n",
       "      <th>ORIGEM</th>\n",
       "      <th>CODESTAB</th>\n",
       "      <th>CODMUNNASC</th>\n",
       "      <th>LOCNASC</th>\n",
       "      <th>IDADEMAE</th>\n",
       "      <th>ESTCIVMAE</th>\n",
       "      <th>ESCMAE</th>\n",
       "      <th>CODOCUPMAE</th>\n",
       "      <th>QTDFILVIVO</th>\n",
       "      <th>QTDFILMORT</th>\n",
       "      <th>...</th>\n",
       "      <th>CONTADOR</th>\n",
       "      <th>munResStatus</th>\n",
       "      <th>munResTipo</th>\n",
       "      <th>munResNome</th>\n",
       "      <th>munResUf</th>\n",
       "      <th>munResLat</th>\n",
       "      <th>munResLon</th>\n",
       "      <th>munResAlt</th>\n",
       "      <th>munResArea</th>\n",
       "      <th>cat_APGAR5</th>\n",
       "    </tr>\n",
       "  </thead>\n",
       "  <tbody>\n",
       "    <tr>\n",
       "      <th>0</th>\n",
       "      <td>1</td>\n",
       "      <td>2679477.0</td>\n",
       "      <td>110001</td>\n",
       "      <td>1</td>\n",
       "      <td>19</td>\n",
       "      <td>União consensual</td>\n",
       "      <td>8 a 11 anos</td>\n",
       "      <td>NaN</td>\n",
       "      <td>0.0</td>\n",
       "      <td>0.0</td>\n",
       "      <td>...</td>\n",
       "      <td>1</td>\n",
       "      <td>ATIVO</td>\n",
       "      <td>MUNIC</td>\n",
       "      <td>Alta Floresta D'Oeste</td>\n",
       "      <td>Rondônia</td>\n",
       "      <td>-11.93554</td>\n",
       "      <td>-61.99982</td>\n",
       "      <td>338.0</td>\n",
       "      <td>7067.025</td>\n",
       "      <td>normal</td>\n",
       "    </tr>\n",
       "    <tr>\n",
       "      <th>1</th>\n",
       "      <td>1</td>\n",
       "      <td>2679477.0</td>\n",
       "      <td>110001</td>\n",
       "      <td>1</td>\n",
       "      <td>29</td>\n",
       "      <td>Casada</td>\n",
       "      <td>8 a 11 anos</td>\n",
       "      <td>999992.0</td>\n",
       "      <td>1.0</td>\n",
       "      <td>0.0</td>\n",
       "      <td>...</td>\n",
       "      <td>2</td>\n",
       "      <td>ATIVO</td>\n",
       "      <td>MUNIC</td>\n",
       "      <td>Alta Floresta D'Oeste</td>\n",
       "      <td>Rondônia</td>\n",
       "      <td>-11.93554</td>\n",
       "      <td>-61.99982</td>\n",
       "      <td>338.0</td>\n",
       "      <td>7067.025</td>\n",
       "      <td>normal</td>\n",
       "    </tr>\n",
       "    <tr>\n",
       "      <th>2</th>\n",
       "      <td>1</td>\n",
       "      <td>2679477.0</td>\n",
       "      <td>110001</td>\n",
       "      <td>1</td>\n",
       "      <td>37</td>\n",
       "      <td>Ignorado</td>\n",
       "      <td>8 a 11 anos</td>\n",
       "      <td>513205.0</td>\n",
       "      <td>2.0</td>\n",
       "      <td>0.0</td>\n",
       "      <td>...</td>\n",
       "      <td>3</td>\n",
       "      <td>ATIVO</td>\n",
       "      <td>MUNIC</td>\n",
       "      <td>Alta Floresta D'Oeste</td>\n",
       "      <td>Rondônia</td>\n",
       "      <td>-11.93554</td>\n",
       "      <td>-61.99982</td>\n",
       "      <td>338.0</td>\n",
       "      <td>7067.025</td>\n",
       "      <td>normal</td>\n",
       "    </tr>\n",
       "  </tbody>\n",
       "</table>\n",
       "<p>3 rows × 70 columns</p>\n",
       "</div>"
      ],
      "text/plain": [
       "   ORIGEM   CODESTAB  CODMUNNASC  LOCNASC  IDADEMAE         ESTCIVMAE  \\\n",
       "0       1  2679477.0      110001        1        19  União consensual   \n",
       "1       1  2679477.0      110001        1        29            Casada   \n",
       "2       1  2679477.0      110001        1        37          Ignorado   \n",
       "\n",
       "        ESCMAE  CODOCUPMAE  QTDFILVIVO  QTDFILMORT  ...  CONTADOR  \\\n",
       "0  8 a 11 anos         NaN         0.0         0.0  ...         1   \n",
       "1  8 a 11 anos    999992.0         1.0         0.0  ...         2   \n",
       "2  8 a 11 anos    513205.0         2.0         0.0  ...         3   \n",
       "\n",
       "  munResStatus munResTipo             munResNome  munResUf munResLat  \\\n",
       "0        ATIVO      MUNIC  Alta Floresta D'Oeste  Rondônia -11.93554   \n",
       "1        ATIVO      MUNIC  Alta Floresta D'Oeste  Rondônia -11.93554   \n",
       "2        ATIVO      MUNIC  Alta Floresta D'Oeste  Rondônia -11.93554   \n",
       "\n",
       "   munResLon munResAlt  munResArea  cat_APGAR5  \n",
       "0  -61.99982     338.0    7067.025      normal  \n",
       "1  -61.99982     338.0    7067.025      normal  \n",
       "2  -61.99982     338.0    7067.025      normal  \n",
       "\n",
       "[3 rows x 70 columns]"
      ]
     },
     "execution_count": 30,
     "metadata": {},
     "output_type": "execute_result"
    }
   ],
   "source": [
    "sinasc.loc[(sinasc['APGAR5'] >= 0) & (sinasc['APGAR5'] <= 3), 'cat_APGAR5'] = 'asfixia grave'\n",
    "sinasc.loc[(sinasc['APGAR5'] >= 4) & (sinasc['APGAR5'] <= 5), 'cat_APGAR5'] = 'asfixia moderada'\n",
    "sinasc.loc[(sinasc['APGAR5'] >= 6) & (sinasc['APGAR5'] <= 7), 'cat_APGAR5'] = 'asfixia leve'\n",
    "sinasc.loc[(sinasc['APGAR5'] >= 8) & (sinasc['APGAR5'] <= 10), 'cat_APGAR5'] = 'normal'\n",
    "\n",
    "sinasc.head(3)"
   ]
  },
  {
   "cell_type": "code",
   "execution_count": 31,
   "id": "4346dfb6",
   "metadata": {},
   "outputs": [
    {
     "data": {
      "image/png": "[encoded data removed]",
      "text/plain": [
       "<Figure size 648x432 with 1 Axes>"
      ]
     },
     "metadata": {
      "needs_background": "light"
     },
     "output_type": "display_data"
    }
   ],
   "source": [
    "fig = plt.figure(figsize = (9, 6))\n",
    "ax = fig.add_subplot()\n",
    "sns.boxplot(ax = ax, \n",
    "            x = 'cat_APGAR5', \n",
    "            y = 'PESO', \n",
    "            data = sinasc, \n",
    "            palette = 'colorblind', \n",
    "            linewidth = 1, \n",
    "            fliersize = 2.5);"
   ]
  },
  {
   "cell_type": "markdown",
   "id": "2e59e175",
   "metadata": {},
   "source": [
    "## 4 Novos *insights*"
   ]
  },
  {
   "cell_type": "markdown",
   "id": "a34bd329",
   "metadata": {},
   "source": [
    "### 4.1 Número de nascimentos"
   ]
  },
  {
   "cell_type": "markdown",
   "id": "3718e5b8",
   "metadata": {},
   "source": [
    "Para determinar a quantidade de nascimentos em nossa base de dados, vamos considerar a quantidade de datas de nascimetos presentes na base de dados."
   ]
  },
  {
   "cell_type": "code",
   "execution_count": 32,
   "id": "98a989b7",
   "metadata": {},
   "outputs": [
    {
     "data": {
      "text/plain": [
       "0"
      ]
     },
     "execution_count": 32,
     "metadata": {},
     "output_type": "execute_result"
    }
   ],
   "source": [
    "sinasc.DTNASC.isna().sum()"
   ]
  },
  {
   "cell_type": "code",
   "execution_count": 33,
   "id": "03e4528c",
   "metadata": {},
   "outputs": [
    {
     "data": {
      "text/plain": [
       "26921"
      ]
     },
     "execution_count": 33,
     "metadata": {},
     "output_type": "execute_result"
    }
   ],
   "source": [
    "sinasc.DTNASC.size"
   ]
  },
  {
   "cell_type": "markdown",
   "id": "4ba04b88",
   "metadata": {},
   "source": [
    "#### 4.1.1 Número de nascimentos de acordo com sua origem"
   ]
  },
  {
   "cell_type": "code",
   "execution_count": 34,
   "id": "8d3f1715",
   "metadata": {},
   "outputs": [
    {
     "data": {
      "text/html": [
       "<div>\n",
       "<style scoped>\n",
       "    .dataframe tbody tr th:only-of-type {\n",
       "        vertical-align: middle;\n",
       "    }\n",
       "\n",
       "    .dataframe tbody tr th {\n",
       "        vertical-align: top;\n",
       "    }\n",
       "\n",
       "    .dataframe thead th {\n",
       "        text-align: right;\n",
       "    }\n",
       "</style>\n",
       "<table border=\"1\" class=\"dataframe\">\n",
       "  <thead>\n",
       "    <tr style=\"text-align: right;\">\n",
       "      <th></th>\n",
       "      <th>DTNASC</th>\n",
       "    </tr>\n",
       "    <tr>\n",
       "      <th>ORIGEM</th>\n",
       "      <th></th>\n",
       "    </tr>\n",
       "  </thead>\n",
       "  <tbody>\n",
       "    <tr>\n",
       "      <th>1</th>\n",
       "      <td>26921</td>\n",
       "    </tr>\n",
       "  </tbody>\n",
       "</table>\n",
       "</div>"
      ],
      "text/plain": [
       "        DTNASC\n",
       "ORIGEM        \n",
       "1        26921"
      ]
     },
     "execution_count": 34,
     "metadata": {},
     "output_type": "execute_result"
    }
   ],
   "source": [
    "sinasc[['DTNASC', 'ORIGEM']].groupby('ORIGEM').agg('count')"
   ]
  },
  {
   "cell_type": "markdown",
   "id": "4fcd6488",
   "metadata": {},
   "source": [
    "Todos os nascimentos ocorreram no **hospital**"
   ]
  },
  {
   "cell_type": "markdown",
   "id": "cf0d3f45",
   "metadata": {},
   "source": [
    "#### 4.1.1 Municípios com maior e menor número de nascimentos"
   ]
  },
  {
   "cell_type": "code",
   "execution_count": 35,
   "id": "a723eb83",
   "metadata": {},
   "outputs": [
    {
     "data": {
      "text/html": [
       "<div>\n",
       "<style scoped>\n",
       "    .dataframe tbody tr th:only-of-type {\n",
       "        vertical-align: middle;\n",
       "    }\n",
       "\n",
       "    .dataframe tbody tr th {\n",
       "        vertical-align: top;\n",
       "    }\n",
       "\n",
       "    .dataframe thead th {\n",
       "        text-align: right;\n",
       "    }\n",
       "</style>\n",
       "<table border=\"1\" class=\"dataframe\">\n",
       "  <thead>\n",
       "    <tr style=\"text-align: right;\">\n",
       "      <th></th>\n",
       "      <th>Contagem de Nascimentos</th>\n",
       "    </tr>\n",
       "    <tr>\n",
       "      <th>Município</th>\n",
       "      <th></th>\n",
       "    </tr>\n",
       "  </thead>\n",
       "  <tbody>\n",
       "    <tr>\n",
       "      <th>Município ignorado - RO</th>\n",
       "      <td>1</td>\n",
       "    </tr>\n",
       "    <tr>\n",
       "      <th>Castanheiras</th>\n",
       "      <td>32</td>\n",
       "    </tr>\n",
       "    <tr>\n",
       "      <th>Pimenteiras do Oeste</th>\n",
       "      <td>40</td>\n",
       "    </tr>\n",
       "    <tr>\n",
       "      <th>Primavera de Rondônia</th>\n",
       "      <td>43</td>\n",
       "    </tr>\n",
       "    <tr>\n",
       "      <th>Parecis</th>\n",
       "      <td>44</td>\n",
       "    </tr>\n",
       "    <tr>\n",
       "      <th>Rio Crespo</th>\n",
       "      <td>50</td>\n",
       "    </tr>\n",
       "    <tr>\n",
       "      <th>São Felipe D'Oeste</th>\n",
       "      <td>54</td>\n",
       "    </tr>\n",
       "    <tr>\n",
       "      <th>Teixeirópolis</th>\n",
       "      <td>64</td>\n",
       "    </tr>\n",
       "    <tr>\n",
       "      <th>Cacaulândia</th>\n",
       "      <td>75</td>\n",
       "    </tr>\n",
       "    <tr>\n",
       "      <th>Cabixi</th>\n",
       "      <td>80</td>\n",
       "    </tr>\n",
       "    <tr>\n",
       "      <th>Vale do Paraíso</th>\n",
       "      <td>81</td>\n",
       "    </tr>\n",
       "    <tr>\n",
       "      <th>Ministro Andreazza</th>\n",
       "      <td>84</td>\n",
       "    </tr>\n",
       "    <tr>\n",
       "      <th>Vale do Anari</th>\n",
       "      <td>93</td>\n",
       "    </tr>\n",
       "    <tr>\n",
       "      <th>Theobroma</th>\n",
       "      <td>97</td>\n",
       "    </tr>\n",
       "    <tr>\n",
       "      <th>Novo Horizonte do Oeste</th>\n",
       "      <td>98</td>\n",
       "    </tr>\n",
       "    <tr>\n",
       "      <th>Santa Luzia D'Oeste</th>\n",
       "      <td>99</td>\n",
       "    </tr>\n",
       "    <tr>\n",
       "      <th>Nova União</th>\n",
       "      <td>104</td>\n",
       "    </tr>\n",
       "    <tr>\n",
       "      <th>Itapuã do Oeste</th>\n",
       "      <td>108</td>\n",
       "    </tr>\n",
       "    <tr>\n",
       "      <th>Governador Jorge Teixeira</th>\n",
       "      <td>112</td>\n",
       "    </tr>\n",
       "    <tr>\n",
       "      <th>Corumbiara</th>\n",
       "      <td>127</td>\n",
       "    </tr>\n",
       "    <tr>\n",
       "      <th>Alto Alegre dos Parecis</th>\n",
       "      <td>154</td>\n",
       "    </tr>\n",
       "    <tr>\n",
       "      <th>Chupinguaia</th>\n",
       "      <td>160</td>\n",
       "    </tr>\n",
       "    <tr>\n",
       "      <th>Mirante da Serra</th>\n",
       "      <td>164</td>\n",
       "    </tr>\n",
       "    <tr>\n",
       "      <th>Campo Novo de Rondônia</th>\n",
       "      <td>166</td>\n",
       "    </tr>\n",
       "    <tr>\n",
       "      <th>Urupá</th>\n",
       "      <td>166</td>\n",
       "    </tr>\n",
       "    <tr>\n",
       "      <th>Seringueiras</th>\n",
       "      <td>168</td>\n",
       "    </tr>\n",
       "    <tr>\n",
       "      <th>Monte Negro</th>\n",
       "      <td>199</td>\n",
       "    </tr>\n",
       "    <tr>\n",
       "      <th>Cujubim</th>\n",
       "      <td>205</td>\n",
       "    </tr>\n",
       "    <tr>\n",
       "      <th>Alvorada D'Oeste</th>\n",
       "      <td>205</td>\n",
       "    </tr>\n",
       "    <tr>\n",
       "      <th>Colorado do Oeste</th>\n",
       "      <td>214</td>\n",
       "    </tr>\n",
       "    <tr>\n",
       "      <th>Alto Paraíso</th>\n",
       "      <td>226</td>\n",
       "    </tr>\n",
       "    <tr>\n",
       "      <th>Costa Marques</th>\n",
       "      <td>232</td>\n",
       "    </tr>\n",
       "    <tr>\n",
       "      <th>Cerejeiras</th>\n",
       "      <td>235</td>\n",
       "    </tr>\n",
       "    <tr>\n",
       "      <th>Nova Brasilândia D'Oeste</th>\n",
       "      <td>261</td>\n",
       "    </tr>\n",
       "    <tr>\n",
       "      <th>São Francisco do Guaporé</th>\n",
       "      <td>301</td>\n",
       "    </tr>\n",
       "    <tr>\n",
       "      <th>Presidente Médici</th>\n",
       "      <td>303</td>\n",
       "    </tr>\n",
       "    <tr>\n",
       "      <th>Candeias do Jamari</th>\n",
       "      <td>332</td>\n",
       "    </tr>\n",
       "    <tr>\n",
       "      <th>São Miguel do Guaporé</th>\n",
       "      <td>353</td>\n",
       "    </tr>\n",
       "    <tr>\n",
       "      <th>Alta Floresta D'Oeste</th>\n",
       "      <td>367</td>\n",
       "    </tr>\n",
       "    <tr>\n",
       "      <th>Nova Mamoré</th>\n",
       "      <td>431</td>\n",
       "    </tr>\n",
       "    <tr>\n",
       "      <th>Espigão D'Oeste</th>\n",
       "      <td>448</td>\n",
       "    </tr>\n",
       "    <tr>\n",
       "      <th>Machadinho D'Oeste</th>\n",
       "      <td>495</td>\n",
       "    </tr>\n",
       "    <tr>\n",
       "      <th>Buritis</th>\n",
       "      <td>582</td>\n",
       "    </tr>\n",
       "    <tr>\n",
       "      <th>Pimenta Bueno</th>\n",
       "      <td>616</td>\n",
       "    </tr>\n",
       "    <tr>\n",
       "      <th>Ouro Preto do Oeste</th>\n",
       "      <td>629</td>\n",
       "    </tr>\n",
       "    <tr>\n",
       "      <th>Guajará-Mirim</th>\n",
       "      <td>767</td>\n",
       "    </tr>\n",
       "    <tr>\n",
       "      <th>Jaru</th>\n",
       "      <td>881</td>\n",
       "    </tr>\n",
       "    <tr>\n",
       "      <th>Rolim de Moura</th>\n",
       "      <td>926</td>\n",
       "    </tr>\n",
       "    <tr>\n",
       "      <th>Cacoal</th>\n",
       "      <td>1373</td>\n",
       "    </tr>\n",
       "    <tr>\n",
       "      <th>Vilhena</th>\n",
       "      <td>1584</td>\n",
       "    </tr>\n",
       "    <tr>\n",
       "      <th>Ariquemes</th>\n",
       "      <td>1729</td>\n",
       "    </tr>\n",
       "    <tr>\n",
       "      <th>Ji-Paraná</th>\n",
       "      <td>2180</td>\n",
       "    </tr>\n",
       "    <tr>\n",
       "      <th>Porto Velho</th>\n",
       "      <td>8383</td>\n",
       "    </tr>\n",
       "  </tbody>\n",
       "</table>\n",
       "</div>"
      ],
      "text/plain": [
       "                           Contagem de Nascimentos\n",
       "Município                                         \n",
       "Município ignorado - RO                          1\n",
       "Castanheiras                                    32\n",
       "Pimenteiras do Oeste                            40\n",
       "Primavera de Rondônia                           43\n",
       "Parecis                                         44\n",
       "Rio Crespo                                      50\n",
       "São Felipe D'Oeste                              54\n",
       "Teixeirópolis                                   64\n",
       "Cacaulândia                                     75\n",
       "Cabixi                                          80\n",
       "Vale do Paraíso                                 81\n",
       "Ministro Andreazza                              84\n",
       "Vale do Anari                                   93\n",
       "Theobroma                                       97\n",
       "Novo Horizonte do Oeste                         98\n",
       "Santa Luzia D'Oeste                             99\n",
       "Nova União                                     104\n",
       "Itapuã do Oeste                                108\n",
       "Governador Jorge Teixeira                      112\n",
       "Corumbiara                                     127\n",
       "Alto Alegre dos Parecis                        154\n",
       "Chupinguaia                                    160\n",
       "Mirante da Serra                               164\n",
       "Campo Novo de Rondônia                         166\n",
       "Urupá                                          166\n",
       "Seringueiras                                   168\n",
       "Monte Negro                                    199\n",
       "Cujubim                                        205\n",
       "Alvorada D'Oeste                               205\n",
       "Colorado do Oeste                              214\n",
       "Alto Paraíso                                   226\n",
       "Costa Marques                                  232\n",
       "Cerejeiras                                     235\n",
       "Nova Brasilândia D'Oeste                       261\n",
       "São Francisco do Guaporé                       301\n",
       "Presidente Médici                              303\n",
       "Candeias do Jamari                             332\n",
       "São Miguel do Guaporé                          353\n",
       "Alta Floresta D'Oeste                          367\n",
       "Nova Mamoré                                    431\n",
       "Espigão D'Oeste                                448\n",
       "Machadinho D'Oeste                             495\n",
       "Buritis                                        582\n",
       "Pimenta Bueno                                  616\n",
       "Ouro Preto do Oeste                            629\n",
       "Guajará-Mirim                                  767\n",
       "Jaru                                           881\n",
       "Rolim de Moura                                 926\n",
       "Cacoal                                        1373\n",
       "Vilhena                                       1584\n",
       "Ariquemes                                     1729\n",
       "Ji-Paraná                                     2180\n",
       "Porto Velho                                   8383"
      ]
     },
     "execution_count": 35,
     "metadata": {},
     "output_type": "execute_result"
    }
   ],
   "source": [
    "#DataFrame da contagem de nascimentos por municípios\n",
    "(sinasc[['munResNome', 'DTNASC']]\n",
    " .groupby('munResNome').count()\n",
    " .sort_values(by = 'DTNASC')\n",
    " .rename_axis('Município')\n",
    " .rename(columns = {'DTNASC': 'Contagem de Nascimentos'})\n",
    ")"
   ]
  },
  {
   "cell_type": "markdown",
   "id": "cc43097f",
   "metadata": {},
   "source": [
    "O município de **Castanheiras** é o munícipio com menor número de nascimentos registrados, enquanto que **Porto Velho** é o município em que ocorreram mais nascimentos."
   ]
  },
  {
   "cell_type": "markdown",
   "id": "c46e8a51",
   "metadata": {},
   "source": [
    "#### 4.1.2 Em que mês ocorreu maior número de nascimentos?"
   ]
  },
  {
   "cell_type": "code",
   "execution_count": 36,
   "id": "7a114a1d",
   "metadata": {},
   "outputs": [],
   "source": [
    "#Subset da base de dados completa, contendo apenas a data e hora de nascimento\n",
    "#Drop missings\n",
    "df = sinasc[['DTNASC', 'HORANASC']].dropna()"
   ]
  },
  {
   "cell_type": "code",
   "execution_count": 37,
   "id": "94429bea",
   "metadata": {},
   "outputs": [],
   "source": [
    "#Criando uma coluna contendo apenas os meses de nascimento\n",
    "data_nasc = pd.to_datetime(df['DTNASC'])\n",
    "mes_nasc = list(map(lambda data: data.month, data_nasc))\n",
    "df['MESNASC'] = mes_nasc"
   ]
  },
  {
   "cell_type": "code",
   "execution_count": 38,
   "id": "132f5ca4",
   "metadata": {},
   "outputs": [
    {
     "data": {
      "text/html": [
       "<div>\n",
       "<style scoped>\n",
       "    .dataframe tbody tr th:only-of-type {\n",
       "        vertical-align: middle;\n",
       "    }\n",
       "\n",
       "    .dataframe tbody tr th {\n",
       "        vertical-align: top;\n",
       "    }\n",
       "\n",
       "    .dataframe thead th {\n",
       "        text-align: right;\n",
       "    }\n",
       "</style>\n",
       "<table border=\"1\" class=\"dataframe\">\n",
       "  <thead>\n",
       "    <tr style=\"text-align: right;\">\n",
       "      <th></th>\n",
       "      <th>Número de nascimentos</th>\n",
       "    </tr>\n",
       "    <tr>\n",
       "      <th>Mês</th>\n",
       "      <th></th>\n",
       "    </tr>\n",
       "  </thead>\n",
       "  <tbody>\n",
       "    <tr>\n",
       "      <th>1</th>\n",
       "      <td>2255</td>\n",
       "    </tr>\n",
       "    <tr>\n",
       "      <th>2</th>\n",
       "      <td>2112</td>\n",
       "    </tr>\n",
       "    <tr>\n",
       "      <th>3</th>\n",
       "      <td>2445</td>\n",
       "    </tr>\n",
       "    <tr>\n",
       "      <th>4</th>\n",
       "      <td>2360</td>\n",
       "    </tr>\n",
       "    <tr>\n",
       "      <th>5</th>\n",
       "      <td>2355</td>\n",
       "    </tr>\n",
       "    <tr>\n",
       "      <th>6</th>\n",
       "      <td>2169</td>\n",
       "    </tr>\n",
       "    <tr>\n",
       "      <th>7</th>\n",
       "      <td>2145</td>\n",
       "    </tr>\n",
       "    <tr>\n",
       "      <th>8</th>\n",
       "      <td>2189</td>\n",
       "    </tr>\n",
       "    <tr>\n",
       "      <th>9</th>\n",
       "      <td>2343</td>\n",
       "    </tr>\n",
       "    <tr>\n",
       "      <th>10</th>\n",
       "      <td>2260</td>\n",
       "    </tr>\n",
       "    <tr>\n",
       "      <th>11</th>\n",
       "      <td>2139</td>\n",
       "    </tr>\n",
       "    <tr>\n",
       "      <th>12</th>\n",
       "      <td>2128</td>\n",
       "    </tr>\n",
       "  </tbody>\n",
       "</table>\n",
       "</div>"
      ],
      "text/plain": [
       "     Número de nascimentos\n",
       "Mês                       \n",
       "1                     2255\n",
       "2                     2112\n",
       "3                     2445\n",
       "4                     2360\n",
       "5                     2355\n",
       "6                     2169\n",
       "7                     2145\n",
       "8                     2189\n",
       "9                     2343\n",
       "10                    2260\n",
       "11                    2139\n",
       "12                    2128"
      ]
     },
     "execution_count": 38,
     "metadata": {},
     "output_type": "execute_result"
    }
   ],
   "source": [
    "(df[['DTNASC', 'MESNASC']]\n",
    " .groupby('MESNASC')\n",
    " .agg('count')\n",
    " .rename_axis('Mês')\n",
    " .rename(columns = {'DTNASC':'Número de nascimentos'})\n",
    ")"
   ]
  },
  {
   "cell_type": "code",
   "execution_count": 39,
   "id": "f128f9ce",
   "metadata": {},
   "outputs": [
    {
     "data": {
      "text/html": [
       "<style  type=\"text/css\" >\n",
       "</style><table id=\"T_c8b6b_\" ><thead>    <tr>        <th class=\"blank level0\" ></th>        <th class=\"col_heading level0 col0\" >Número de nascimentos</th>    </tr>    <tr>        <th class=\"index_name level0\" >Mês</th>        <th class=\"blank\" ></th>    </tr></thead><tbody>\n",
       "                <tr>\n",
       "                        <th id=\"T_c8b6b_level0_row0\" class=\"row_heading level0 row0\" >1</th>\n",
       "                        <td id=\"T_c8b6b_row0_col0\" class=\"data row0 col0\" >8.38%</td>\n",
       "            </tr>\n",
       "            <tr>\n",
       "                        <th id=\"T_c8b6b_level0_row1\" class=\"row_heading level0 row1\" >2</th>\n",
       "                        <td id=\"T_c8b6b_row1_col0\" class=\"data row1 col0\" >7.85%</td>\n",
       "            </tr>\n",
       "            <tr>\n",
       "                        <th id=\"T_c8b6b_level0_row2\" class=\"row_heading level0 row2\" >3</th>\n",
       "                        <td id=\"T_c8b6b_row2_col0\" class=\"data row2 col0\" >9.09%</td>\n",
       "            </tr>\n",
       "            <tr>\n",
       "                        <th id=\"T_c8b6b_level0_row3\" class=\"row_heading level0 row3\" >4</th>\n",
       "                        <td id=\"T_c8b6b_row3_col0\" class=\"data row3 col0\" >8.77%</td>\n",
       "            </tr>\n",
       "            <tr>\n",
       "                        <th id=\"T_c8b6b_level0_row4\" class=\"row_heading level0 row4\" >5</th>\n",
       "                        <td id=\"T_c8b6b_row4_col0\" class=\"data row4 col0\" >8.75%</td>\n",
       "            </tr>\n",
       "            <tr>\n",
       "                        <th id=\"T_c8b6b_level0_row5\" class=\"row_heading level0 row5\" >6</th>\n",
       "                        <td id=\"T_c8b6b_row5_col0\" class=\"data row5 col0\" >8.06%</td>\n",
       "            </tr>\n",
       "            <tr>\n",
       "                        <th id=\"T_c8b6b_level0_row6\" class=\"row_heading level0 row6\" >7</th>\n",
       "                        <td id=\"T_c8b6b_row6_col0\" class=\"data row6 col0\" >7.97%</td>\n",
       "            </tr>\n",
       "            <tr>\n",
       "                        <th id=\"T_c8b6b_level0_row7\" class=\"row_heading level0 row7\" >8</th>\n",
       "                        <td id=\"T_c8b6b_row7_col0\" class=\"data row7 col0\" >8.14%</td>\n",
       "            </tr>\n",
       "            <tr>\n",
       "                        <th id=\"T_c8b6b_level0_row8\" class=\"row_heading level0 row8\" >9</th>\n",
       "                        <td id=\"T_c8b6b_row8_col0\" class=\"data row8 col0\" >8.71%</td>\n",
       "            </tr>\n",
       "            <tr>\n",
       "                        <th id=\"T_c8b6b_level0_row9\" class=\"row_heading level0 row9\" >10</th>\n",
       "                        <td id=\"T_c8b6b_row9_col0\" class=\"data row9 col0\" >8.40%</td>\n",
       "            </tr>\n",
       "            <tr>\n",
       "                        <th id=\"T_c8b6b_level0_row10\" class=\"row_heading level0 row10\" >11</th>\n",
       "                        <td id=\"T_c8b6b_row10_col0\" class=\"data row10 col0\" >7.95%</td>\n",
       "            </tr>\n",
       "            <tr>\n",
       "                        <th id=\"T_c8b6b_level0_row11\" class=\"row_heading level0 row11\" >12</th>\n",
       "                        <td id=\"T_c8b6b_row11_col0\" class=\"data row11 col0\" >7.91%</td>\n",
       "            </tr>\n",
       "    </tbody></table>"
      ],
      "text/plain": [
       "<pandas.io.formats.style.Styler at 0x25f70217bb0>"
      ]
     },
     "execution_count": 39,
     "metadata": {},
     "output_type": "execute_result"
    }
   ],
   "source": [
    "(df[['DTNASC', 'MESNASC']]\n",
    " .groupby('MESNASC')\n",
    " .agg('count')\n",
    " .apply(lambda x: x / x.sum())\n",
    " .rename_axis('Mês')\n",
    " .rename(columns = {'DTNASC':'Número de nascimentos'})\n",
    ").style.format('{:.2%}')"
   ]
  },
  {
   "cell_type": "markdown",
   "id": "410c93ab",
   "metadata": {},
   "source": [
    "O mês de **Março** foi o mês em que houve maior número de nascidos. "
   ]
  },
  {
   "cell_type": "markdown",
   "id": "08bb33c5",
   "metadata": {},
   "source": [
    "#### 4.1.3 Em que intervalo de tempo durante o dia ocorreram mais partos?"
   ]
  },
  {
   "cell_type": "code",
   "execution_count": 40,
   "id": "45430998",
   "metadata": {},
   "outputs": [
    {
     "data": {
      "text/html": [
       "<div>\n",
       "<style scoped>\n",
       "    .dataframe tbody tr th:only-of-type {\n",
       "        vertical-align: middle;\n",
       "    }\n",
       "\n",
       "    .dataframe tbody tr th {\n",
       "        vertical-align: top;\n",
       "    }\n",
       "\n",
       "    .dataframe thead th {\n",
       "        text-align: right;\n",
       "    }\n",
       "</style>\n",
       "<table border=\"1\" class=\"dataframe\">\n",
       "  <thead>\n",
       "    <tr style=\"text-align: right;\">\n",
       "      <th></th>\n",
       "      <th>DTNASC</th>\n",
       "      <th>HORANASC</th>\n",
       "      <th>MESNASC</th>\n",
       "      <th>HORA</th>\n",
       "    </tr>\n",
       "  </thead>\n",
       "  <tbody>\n",
       "    <tr>\n",
       "      <th>0</th>\n",
       "      <td>2019-02-19</td>\n",
       "      <td>1620.0</td>\n",
       "      <td>2</td>\n",
       "      <td>16</td>\n",
       "    </tr>\n",
       "    <tr>\n",
       "      <th>1</th>\n",
       "      <td>2019-02-21</td>\n",
       "      <td>1830.0</td>\n",
       "      <td>2</td>\n",
       "      <td>18</td>\n",
       "    </tr>\n",
       "    <tr>\n",
       "      <th>2</th>\n",
       "      <td>2019-02-25</td>\n",
       "      <td>915.0</td>\n",
       "      <td>2</td>\n",
       "      <td>09</td>\n",
       "    </tr>\n",
       "    <tr>\n",
       "      <th>3</th>\n",
       "      <td>2019-03-20</td>\n",
       "      <td>835.0</td>\n",
       "      <td>3</td>\n",
       "      <td>08</td>\n",
       "    </tr>\n",
       "    <tr>\n",
       "      <th>4</th>\n",
       "      <td>2019-03-23</td>\n",
       "      <td>750.0</td>\n",
       "      <td>3</td>\n",
       "      <td>07</td>\n",
       "    </tr>\n",
       "    <tr>\n",
       "      <th>...</th>\n",
       "      <td>...</td>\n",
       "      <td>...</td>\n",
       "      <td>...</td>\n",
       "      <td>...</td>\n",
       "    </tr>\n",
       "    <tr>\n",
       "      <th>27023</th>\n",
       "      <td>2019-12-13</td>\n",
       "      <td>2030.0</td>\n",
       "      <td>12</td>\n",
       "      <td>20</td>\n",
       "    </tr>\n",
       "    <tr>\n",
       "      <th>27024</th>\n",
       "      <td>2019-10-04</td>\n",
       "      <td>650.0</td>\n",
       "      <td>10</td>\n",
       "      <td>06</td>\n",
       "    </tr>\n",
       "    <tr>\n",
       "      <th>27025</th>\n",
       "      <td>2019-08-02</td>\n",
       "      <td>1430.0</td>\n",
       "      <td>8</td>\n",
       "      <td>14</td>\n",
       "    </tr>\n",
       "    <tr>\n",
       "      <th>27026</th>\n",
       "      <td>2019-12-23</td>\n",
       "      <td>741.0</td>\n",
       "      <td>12</td>\n",
       "      <td>07</td>\n",
       "    </tr>\n",
       "    <tr>\n",
       "      <th>27027</th>\n",
       "      <td>2019-12-27</td>\n",
       "      <td>1446.0</td>\n",
       "      <td>12</td>\n",
       "      <td>14</td>\n",
       "    </tr>\n",
       "  </tbody>\n",
       "</table>\n",
       "<p>26900 rows × 4 columns</p>\n",
       "</div>"
      ],
      "text/plain": [
       "           DTNASC  HORANASC  MESNASC HORA\n",
       "0      2019-02-19    1620.0        2   16\n",
       "1      2019-02-21    1830.0        2   18\n",
       "2      2019-02-25     915.0        2   09\n",
       "3      2019-03-20     835.0        3   08\n",
       "4      2019-03-23     750.0        3   07\n",
       "...           ...       ...      ...  ...\n",
       "27023  2019-12-13    2030.0       12   20\n",
       "27024  2019-10-04     650.0       10   06\n",
       "27025  2019-08-02    1430.0        8   14\n",
       "27026  2019-12-23     741.0       12   07\n",
       "27027  2019-12-27    1446.0       12   14\n",
       "\n",
       "[26900 rows x 4 columns]"
      ]
     },
     "metadata": {},
     "output_type": "display_data"
    }
   ],
   "source": [
    "#Atrbuindo a uma variável valores da horário de nascimento convertidos para inteiro\n",
    "hora = df['HORANASC'].astype(int).values\n",
    "#Criando uma nova coluna contendo apenas a hora, sem considerar os minutos\n",
    "df['HORA'] = list(map(lambda x: format(x, '04d')[0:2], hora))\n",
    "display(df)"
   ]
  },
  {
   "cell_type": "code",
   "execution_count": 41,
   "id": "924ecb9c",
   "metadata": {},
   "outputs": [
    {
     "data": {
      "text/html": [
       "<div>\n",
       "<style scoped>\n",
       "    .dataframe tbody tr th:only-of-type {\n",
       "        vertical-align: middle;\n",
       "    }\n",
       "\n",
       "    .dataframe tbody tr th {\n",
       "        vertical-align: top;\n",
       "    }\n",
       "\n",
       "    .dataframe thead th {\n",
       "        text-align: right;\n",
       "    }\n",
       "</style>\n",
       "<table border=\"1\" class=\"dataframe\">\n",
       "  <thead>\n",
       "    <tr style=\"text-align: right;\">\n",
       "      <th></th>\n",
       "      <th>Nº de nascimentos</th>\n",
       "    </tr>\n",
       "    <tr>\n",
       "      <th>HORA</th>\n",
       "      <th></th>\n",
       "    </tr>\n",
       "  </thead>\n",
       "  <tbody>\n",
       "    <tr>\n",
       "      <th>10</th>\n",
       "      <td>2225</td>\n",
       "    </tr>\n",
       "    <tr>\n",
       "      <th>09</th>\n",
       "      <td>2072</td>\n",
       "    </tr>\n",
       "    <tr>\n",
       "      <th>11</th>\n",
       "      <td>2012</td>\n",
       "    </tr>\n",
       "    <tr>\n",
       "      <th>14</th>\n",
       "      <td>1641</td>\n",
       "    </tr>\n",
       "    <tr>\n",
       "      <th>15</th>\n",
       "      <td>1572</td>\n",
       "    </tr>\n",
       "    <tr>\n",
       "      <th>08</th>\n",
       "      <td>1528</td>\n",
       "    </tr>\n",
       "    <tr>\n",
       "      <th>17</th>\n",
       "      <td>1516</td>\n",
       "    </tr>\n",
       "    <tr>\n",
       "      <th>16</th>\n",
       "      <td>1515</td>\n",
       "    </tr>\n",
       "    <tr>\n",
       "      <th>18</th>\n",
       "      <td>1285</td>\n",
       "    </tr>\n",
       "    <tr>\n",
       "      <th>07</th>\n",
       "      <td>1143</td>\n",
       "    </tr>\n",
       "    <tr>\n",
       "      <th>13</th>\n",
       "      <td>1120</td>\n",
       "    </tr>\n",
       "    <tr>\n",
       "      <th>12</th>\n",
       "      <td>1113</td>\n",
       "    </tr>\n",
       "    <tr>\n",
       "      <th>21</th>\n",
       "      <td>997</td>\n",
       "    </tr>\n",
       "    <tr>\n",
       "      <th>20</th>\n",
       "      <td>883</td>\n",
       "    </tr>\n",
       "    <tr>\n",
       "      <th>22</th>\n",
       "      <td>849</td>\n",
       "    </tr>\n",
       "    <tr>\n",
       "      <th>19</th>\n",
       "      <td>799</td>\n",
       "    </tr>\n",
       "    <tr>\n",
       "      <th>23</th>\n",
       "      <td>788</td>\n",
       "    </tr>\n",
       "    <tr>\n",
       "      <th>06</th>\n",
       "      <td>768</td>\n",
       "    </tr>\n",
       "    <tr>\n",
       "      <th>00</th>\n",
       "      <td>629</td>\n",
       "    </tr>\n",
       "    <tr>\n",
       "      <th>01</th>\n",
       "      <td>518</td>\n",
       "    </tr>\n",
       "    <tr>\n",
       "      <th>05</th>\n",
       "      <td>498</td>\n",
       "    </tr>\n",
       "    <tr>\n",
       "      <th>02</th>\n",
       "      <td>494</td>\n",
       "    </tr>\n",
       "    <tr>\n",
       "      <th>03</th>\n",
       "      <td>468</td>\n",
       "    </tr>\n",
       "    <tr>\n",
       "      <th>04</th>\n",
       "      <td>467</td>\n",
       "    </tr>\n",
       "  </tbody>\n",
       "</table>\n",
       "</div>"
      ],
      "text/plain": [
       "      Nº de nascimentos\n",
       "HORA                   \n",
       "10                 2225\n",
       "09                 2072\n",
       "11                 2012\n",
       "14                 1641\n",
       "15                 1572\n",
       "08                 1528\n",
       "17                 1516\n",
       "16                 1515\n",
       "18                 1285\n",
       "07                 1143\n",
       "13                 1120\n",
       "12                 1113\n",
       "21                  997\n",
       "20                  883\n",
       "22                  849\n",
       "19                  799\n",
       "23                  788\n",
       "06                  768\n",
       "00                  629\n",
       "01                  518\n",
       "05                  498\n",
       "02                  494\n",
       "03                  468\n",
       "04                  467"
      ]
     },
     "execution_count": 41,
     "metadata": {},
     "output_type": "execute_result"
    }
   ],
   "source": [
    "(df\n",
    " .groupby('HORA')\n",
    " .agg({'DTNASC':'count'})\n",
    " .sort_values(by ='DTNASC', ascending = False)\n",
    " .rename({'DTNASC': 'Nº de nascimentos'}, axis = 1)\n",
    ")"
   ]
  },
  {
   "cell_type": "code",
   "execution_count": 42,
   "id": "e58a5bc4",
   "metadata": {},
   "outputs": [
    {
     "data": {
      "text/plain": [
       "0.2345353159851301"
      ]
     },
     "execution_count": 42,
     "metadata": {},
     "output_type": "execute_result"
    }
   ],
   "source": [
    "np.mean((df['HORA'] == '09') | (df['HORA'] == '10') | (df['HORA'] == '11'))"
   ]
  },
  {
   "cell_type": "markdown",
   "id": "ff45d025",
   "metadata": {},
   "source": [
    "O maior número de partos ocorreram no intervalo de 09-12 horas, correspondendo a 23.4% dos partos ocorridos em 2019"
   ]
  },
  {
   "cell_type": "markdown",
   "id": "01f986a3",
   "metadata": {},
   "source": [
    "#### 4.1.4 Quais seriam as profissões das mães mais frequentes, de acordo com o número de partos realizados?"
   ]
  },
  {
   "cell_type": "code",
   "execution_count": 43,
   "id": "ad020563",
   "metadata": {},
   "outputs": [
    {
     "name": "stdout",
     "output_type": "stream",
     "text": [
      "Missings na coluna CODOCUPMAE: 2892\n",
      "Missings na coluna CODOCUPMAE: 0\n"
     ]
    }
   ],
   "source": [
    "print(f'Missings na coluna CODOCUPMAE: {sinasc.CODOCUPMAE.isna().sum()}')\n",
    "sinasc['CODOCUPMAE'].fillna(0, inplace = True)\n",
    "print(f'Missings na coluna CODOCUPMAE: {sinasc.CODOCUPMAE.isna().sum()}')"
   ]
  },
  {
   "cell_type": "code",
   "execution_count": 44,
   "id": "c150b339",
   "metadata": {},
   "outputs": [],
   "source": [
    "sinasc['CODOCUPMAE'] = sinasc['CODOCUPMAE'].astype(int)"
   ]
  },
  {
   "cell_type": "code",
   "execution_count": 45,
   "id": "a8175f3f",
   "metadata": {},
   "outputs": [
    {
     "data": {
      "text/html": [
       "<div>\n",
       "<style scoped>\n",
       "    .dataframe tbody tr th:only-of-type {\n",
       "        vertical-align: middle;\n",
       "    }\n",
       "\n",
       "    .dataframe tbody tr th {\n",
       "        vertical-align: top;\n",
       "    }\n",
       "\n",
       "    .dataframe thead th {\n",
       "        text-align: right;\n",
       "    }\n",
       "</style>\n",
       "<table border=\"1\" class=\"dataframe\">\n",
       "  <thead>\n",
       "    <tr style=\"text-align: right;\">\n",
       "      <th></th>\n",
       "      <th>Número de nascimentos</th>\n",
       "    </tr>\n",
       "    <tr>\n",
       "      <th>Ocupação da mãe</th>\n",
       "      <th></th>\n",
       "    </tr>\n",
       "  </thead>\n",
       "  <tbody>\n",
       "    <tr>\n",
       "      <th>999992</th>\n",
       "      <td>13554</td>\n",
       "    </tr>\n",
       "    <tr>\n",
       "      <th>0</th>\n",
       "      <td>2892</td>\n",
       "    </tr>\n",
       "    <tr>\n",
       "      <th>999991</th>\n",
       "      <td>1114</td>\n",
       "    </tr>\n",
       "    <tr>\n",
       "      <th>622020</th>\n",
       "      <td>910</td>\n",
       "    </tr>\n",
       "    <tr>\n",
       "      <th>621005</th>\n",
       "      <td>792</td>\n",
       "    </tr>\n",
       "    <tr>\n",
       "      <th>421125</th>\n",
       "      <td>521</td>\n",
       "    </tr>\n",
       "    <tr>\n",
       "      <th>354705</th>\n",
       "      <td>479</td>\n",
       "    </tr>\n",
       "    <tr>\n",
       "      <th>999994</th>\n",
       "      <td>408</td>\n",
       "    </tr>\n",
       "    <tr>\n",
       "      <th>521110</th>\n",
       "      <td>403</td>\n",
       "    </tr>\n",
       "    <tr>\n",
       "      <th>622005</th>\n",
       "      <td>352</td>\n",
       "    </tr>\n",
       "  </tbody>\n",
       "</table>\n",
       "</div>"
      ],
      "text/plain": [
       "                 Número de nascimentos\n",
       "Ocupação da mãe                       \n",
       "999992                           13554\n",
       "0                                 2892\n",
       "999991                            1114\n",
       "622020                             910\n",
       "621005                             792\n",
       "421125                             521\n",
       "354705                             479\n",
       "999994                             408\n",
       "521110                             403\n",
       "622005                             352"
      ]
     },
     "metadata": {},
     "output_type": "display_data"
    }
   ],
   "source": [
    "df1 = (sinasc[['DTNASC', 'CODOCUPMAE']]\n",
    " .groupby('CODOCUPMAE')\n",
    " .agg('count')\n",
    " .sort_values(by = 'DTNASC', ascending = False)\n",
    " .rename_axis('Ocupação da mãe')\n",
    " .rename(columns= {'DTNASC': 'Número de nascimentos'})\n",
    " .head(10)\n",
    ")\n",
    "display(df1)"
   ]
  },
  {
   "cell_type": "code",
   "execution_count": 46,
   "id": "b9e32dc0",
   "metadata": {},
   "outputs": [],
   "source": [
    "ocupacao = {'0': 'Não informado',\n",
    "            '999992': 'Dona de casa', \n",
    "            '999991': 'Estudante', \n",
    "            '622020': 'Trabalhador volante da agricultura', \n",
    "            '621005':'Trabalhador agropecuário em geral', \n",
    "            '421125':'Operador de caixa', \n",
    "            '354705':'Representante comercial autônomo', \n",
    "            '999994': 'Desempregado crônico', \n",
    "            '521110': 'Vendedor do comércio varejista', \n",
    "            '622005':'Caseiro (agricultura)', \n",
    "            '411010': 'Assistente admnistrativo'}"
   ]
  },
  {
   "cell_type": "markdown",
   "id": "c8dc6a40",
   "metadata": {},
   "source": [
    "O maior número de nascimentos foi observado para mães com ocupação de código '999992', isto é, para donas de casa. A 2ª e 3ª profissões com maior número de partos realizados foram a de estudante e trabalhadores da agricultura"
   ]
  },
  {
   "cell_type": "markdown",
   "id": "91e2e005",
   "metadata": {},
   "source": [
    "#### 4.1.5 Para quais raças foram registrados maior número de partos?\n",
    "\n",
    "\n",
    "\n",
    "### 4.2 Idade da mãe e do pai\n",
    "\n",
    "#### 4.2.1 Quais os municípios em que a diferença de idade entre os pais é mais significativa?"
   ]
  },
  {
   "cell_type": "code",
   "execution_count": null,
   "id": "52c92e8c",
   "metadata": {},
   "outputs": [],
   "source": []
  },
  {
   "cell_type": "markdown",
   "id": "cabb7129",
   "metadata": {},
   "source": [
    "---"
   ]
  }
 ],
 "metadata": {
  "kernelspec": {
   "display_name": "Python 3",
   "language": "python",
   "name": "python3"
  },
  "language_info": {
   "codemirror_mode": {
    "name": "ipython",
    "version": 3
   },
   "file_extension": ".py",
   "mimetype": "text/x-python",
   "name": "python",
   "nbconvert_exporter": "python",
   "pygments_lexer": "ipython3",
   "version": "3.8.8"
  }
 },
 "nbformat": 4,
 "nbformat_minor": 5
}
